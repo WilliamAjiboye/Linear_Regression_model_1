{
 "cells": [
  {
   "cell_type": "code",
   "id": "70c4eb8af041283d",
   "metadata": {
    "ExecuteTime": {
     "end_time": "2025-06-14T14:56:26.696011Z",
     "start_time": "2025-06-14T14:56:26.136641Z"
    }
   },
   "source": [
    "import pandas as pd\n",
    "import numpy as np\n",
    "import seaborn as sns\n",
    "import matplotlib.pyplot as plt\n",
    "from jsonschema.exceptions import best_match\n",
    "from numpy.ma.core import transpose"
   ],
   "outputs": [],
   "execution_count": 2
  },
  {
   "cell_type": "code",
   "id": "6301e5f96d513bba",
   "metadata": {
    "ExecuteTime": {
     "end_time": "2025-06-14T14:56:26.790382Z",
     "start_time": "2025-06-14T14:56:26.741364Z"
    }
   },
   "source": [
    "df= pd.read_csv('house_price_prediction_dataset.csv')\n",
    "len(df)"
   ],
   "outputs": [
    {
     "data": {
      "text/plain": [
       "500"
      ]
     },
     "execution_count": 3,
     "metadata": {},
     "output_type": "execute_result"
    }
   ],
   "execution_count": 3
  },
  {
   "cell_type": "code",
   "id": "766d5d1c64e3567b",
   "metadata": {
    "ExecuteTime": {
     "end_time": "2025-06-14T14:56:26.965975Z",
     "start_time": "2025-06-14T14:56:26.937060Z"
    }
   },
   "source": [
    "df.head()"
   ],
   "outputs": [
    {
     "data": {
      "text/plain": [
       "   bedrooms     lot_size  distance_to_city_center  crime_rate  \\\n",
       "0         4  6958.218211                15.159223   17.483863   \n",
       "1         5  5031.505762                 2.572198   50.256608   \n",
       "2         3  6022.929457                11.335251   39.866303   \n",
       "3         5  4534.599865                14.448154   14.637399   \n",
       "4         5  5486.249529                10.411420   36.753442   \n",
       "\n",
       "   age_of_building  nearby_schools  avg_neighbourhood_income  \\\n",
       "0               82               5              49027.298942   \n",
       "1               97               2              44652.067330   \n",
       "2                6               5              44550.979936   \n",
       "3               91               9              48764.527936   \n",
       "4               23               9              78260.603546   \n",
       "\n",
       "   property_tax_rate  has_garage basement_quality          price  \n",
       "0           0.625130           0        Excellent  202070.267189  \n",
       "1           0.921014           0             Good  236653.003295  \n",
       "2           2.118047           0             Poor  134004.412359  \n",
       "3           0.793844           0             Good  213226.811216  \n",
       "4           1.185290           0              NaN  220244.551532  "
      ],
      "text/html": [
       "<div>\n",
       "<style scoped>\n",
       "    .dataframe tbody tr th:only-of-type {\n",
       "        vertical-align: middle;\n",
       "    }\n",
       "\n",
       "    .dataframe tbody tr th {\n",
       "        vertical-align: top;\n",
       "    }\n",
       "\n",
       "    .dataframe thead th {\n",
       "        text-align: right;\n",
       "    }\n",
       "</style>\n",
       "<table border=\"1\" class=\"dataframe\">\n",
       "  <thead>\n",
       "    <tr style=\"text-align: right;\">\n",
       "      <th></th>\n",
       "      <th>bedrooms</th>\n",
       "      <th>lot_size</th>\n",
       "      <th>distance_to_city_center</th>\n",
       "      <th>crime_rate</th>\n",
       "      <th>age_of_building</th>\n",
       "      <th>nearby_schools</th>\n",
       "      <th>avg_neighbourhood_income</th>\n",
       "      <th>property_tax_rate</th>\n",
       "      <th>has_garage</th>\n",
       "      <th>basement_quality</th>\n",
       "      <th>price</th>\n",
       "    </tr>\n",
       "  </thead>\n",
       "  <tbody>\n",
       "    <tr>\n",
       "      <th>0</th>\n",
       "      <td>4</td>\n",
       "      <td>6958.218211</td>\n",
       "      <td>15.159223</td>\n",
       "      <td>17.483863</td>\n",
       "      <td>82</td>\n",
       "      <td>5</td>\n",
       "      <td>49027.298942</td>\n",
       "      <td>0.625130</td>\n",
       "      <td>0</td>\n",
       "      <td>Excellent</td>\n",
       "      <td>202070.267189</td>\n",
       "    </tr>\n",
       "    <tr>\n",
       "      <th>1</th>\n",
       "      <td>5</td>\n",
       "      <td>5031.505762</td>\n",
       "      <td>2.572198</td>\n",
       "      <td>50.256608</td>\n",
       "      <td>97</td>\n",
       "      <td>2</td>\n",
       "      <td>44652.067330</td>\n",
       "      <td>0.921014</td>\n",
       "      <td>0</td>\n",
       "      <td>Good</td>\n",
       "      <td>236653.003295</td>\n",
       "    </tr>\n",
       "    <tr>\n",
       "      <th>2</th>\n",
       "      <td>3</td>\n",
       "      <td>6022.929457</td>\n",
       "      <td>11.335251</td>\n",
       "      <td>39.866303</td>\n",
       "      <td>6</td>\n",
       "      <td>5</td>\n",
       "      <td>44550.979936</td>\n",
       "      <td>2.118047</td>\n",
       "      <td>0</td>\n",
       "      <td>Poor</td>\n",
       "      <td>134004.412359</td>\n",
       "    </tr>\n",
       "    <tr>\n",
       "      <th>3</th>\n",
       "      <td>5</td>\n",
       "      <td>4534.599865</td>\n",
       "      <td>14.448154</td>\n",
       "      <td>14.637399</td>\n",
       "      <td>91</td>\n",
       "      <td>9</td>\n",
       "      <td>48764.527936</td>\n",
       "      <td>0.793844</td>\n",
       "      <td>0</td>\n",
       "      <td>Good</td>\n",
       "      <td>213226.811216</td>\n",
       "    </tr>\n",
       "    <tr>\n",
       "      <th>4</th>\n",
       "      <td>5</td>\n",
       "      <td>5486.249529</td>\n",
       "      <td>10.411420</td>\n",
       "      <td>36.753442</td>\n",
       "      <td>23</td>\n",
       "      <td>9</td>\n",
       "      <td>78260.603546</td>\n",
       "      <td>1.185290</td>\n",
       "      <td>0</td>\n",
       "      <td>NaN</td>\n",
       "      <td>220244.551532</td>\n",
       "    </tr>\n",
       "  </tbody>\n",
       "</table>\n",
       "</div>"
      ]
     },
     "execution_count": 4,
     "metadata": {},
     "output_type": "execute_result"
    }
   ],
   "execution_count": 4
  },
  {
   "cell_type": "code",
   "id": "7e0940c097972b6",
   "metadata": {
    "ExecuteTime": {
     "end_time": "2025-06-14T14:56:27.450541Z",
     "start_time": "2025-06-14T14:56:27.431440Z"
    }
   },
   "source": [
    "df.isnull().sum()"
   ],
   "outputs": [
    {
     "data": {
      "text/plain": [
       "bedrooms                     0\n",
       "lot_size                     0\n",
       "distance_to_city_center      0\n",
       "crime_rate                   0\n",
       "age_of_building              0\n",
       "nearby_schools               0\n",
       "avg_neighbourhood_income    10\n",
       "property_tax_rate            0\n",
       "has_garage                   0\n",
       "basement_quality            47\n",
       "price                        0\n",
       "dtype: int64"
      ]
     },
     "execution_count": 5,
     "metadata": {},
     "output_type": "execute_result"
    }
   ],
   "execution_count": 5
  },
  {
   "cell_type": "code",
   "id": "9f76723429bdb7d8",
   "metadata": {
    "ExecuteTime": {
     "end_time": "2025-06-14T14:56:28.144211Z",
     "start_time": "2025-06-14T14:56:28.103553Z"
    }
   },
   "source": [
    "df[df['lot_size']>12500]"
   ],
   "outputs": [
    {
     "data": {
      "text/plain": [
       "     bedrooms      lot_size  distance_to_city_center  crime_rate  \\\n",
       "118         1  13787.669245                 2.759930   17.410934   \n",
       "161         1  13879.337822                 0.552296   81.594694   \n",
       "197         1  14773.928507                10.987998   24.667886   \n",
       "251         4  13163.660821                 4.401651   33.423832   \n",
       "486         1  19222.277127                 6.659548   27.927609   \n",
       "\n",
       "     age_of_building  nearby_schools  avg_neighbourhood_income  \\\n",
       "118               29               1              61313.673284   \n",
       "161               56               2              68519.126146   \n",
       "197               11               4              60061.395115   \n",
       "251               10               6              68997.889498   \n",
       "486               72               7              50105.965972   \n",
       "\n",
       "     property_tax_rate  has_garage basement_quality          price  \n",
       "118           1.521162           1             Fair  158128.096870  \n",
       "161           1.722927           0             Good  130634.168929  \n",
       "197           1.823827           0             Poor   58781.590147  \n",
       "251           0.929392           0             Fair  257791.006711  \n",
       "486           2.148701           0        Excellent  101247.571219  "
      ],
      "text/html": [
       "<div>\n",
       "<style scoped>\n",
       "    .dataframe tbody tr th:only-of-type {\n",
       "        vertical-align: middle;\n",
       "    }\n",
       "\n",
       "    .dataframe tbody tr th {\n",
       "        vertical-align: top;\n",
       "    }\n",
       "\n",
       "    .dataframe thead th {\n",
       "        text-align: right;\n",
       "    }\n",
       "</style>\n",
       "<table border=\"1\" class=\"dataframe\">\n",
       "  <thead>\n",
       "    <tr style=\"text-align: right;\">\n",
       "      <th></th>\n",
       "      <th>bedrooms</th>\n",
       "      <th>lot_size</th>\n",
       "      <th>distance_to_city_center</th>\n",
       "      <th>crime_rate</th>\n",
       "      <th>age_of_building</th>\n",
       "      <th>nearby_schools</th>\n",
       "      <th>avg_neighbourhood_income</th>\n",
       "      <th>property_tax_rate</th>\n",
       "      <th>has_garage</th>\n",
       "      <th>basement_quality</th>\n",
       "      <th>price</th>\n",
       "    </tr>\n",
       "  </thead>\n",
       "  <tbody>\n",
       "    <tr>\n",
       "      <th>118</th>\n",
       "      <td>1</td>\n",
       "      <td>13787.669245</td>\n",
       "      <td>2.759930</td>\n",
       "      <td>17.410934</td>\n",
       "      <td>29</td>\n",
       "      <td>1</td>\n",
       "      <td>61313.673284</td>\n",
       "      <td>1.521162</td>\n",
       "      <td>1</td>\n",
       "      <td>Fair</td>\n",
       "      <td>158128.096870</td>\n",
       "    </tr>\n",
       "    <tr>\n",
       "      <th>161</th>\n",
       "      <td>1</td>\n",
       "      <td>13879.337822</td>\n",
       "      <td>0.552296</td>\n",
       "      <td>81.594694</td>\n",
       "      <td>56</td>\n",
       "      <td>2</td>\n",
       "      <td>68519.126146</td>\n",
       "      <td>1.722927</td>\n",
       "      <td>0</td>\n",
       "      <td>Good</td>\n",
       "      <td>130634.168929</td>\n",
       "    </tr>\n",
       "    <tr>\n",
       "      <th>197</th>\n",
       "      <td>1</td>\n",
       "      <td>14773.928507</td>\n",
       "      <td>10.987998</td>\n",
       "      <td>24.667886</td>\n",
       "      <td>11</td>\n",
       "      <td>4</td>\n",
       "      <td>60061.395115</td>\n",
       "      <td>1.823827</td>\n",
       "      <td>0</td>\n",
       "      <td>Poor</td>\n",
       "      <td>58781.590147</td>\n",
       "    </tr>\n",
       "    <tr>\n",
       "      <th>251</th>\n",
       "      <td>4</td>\n",
       "      <td>13163.660821</td>\n",
       "      <td>4.401651</td>\n",
       "      <td>33.423832</td>\n",
       "      <td>10</td>\n",
       "      <td>6</td>\n",
       "      <td>68997.889498</td>\n",
       "      <td>0.929392</td>\n",
       "      <td>0</td>\n",
       "      <td>Fair</td>\n",
       "      <td>257791.006711</td>\n",
       "    </tr>\n",
       "    <tr>\n",
       "      <th>486</th>\n",
       "      <td>1</td>\n",
       "      <td>19222.277127</td>\n",
       "      <td>6.659548</td>\n",
       "      <td>27.927609</td>\n",
       "      <td>72</td>\n",
       "      <td>7</td>\n",
       "      <td>50105.965972</td>\n",
       "      <td>2.148701</td>\n",
       "      <td>0</td>\n",
       "      <td>Excellent</td>\n",
       "      <td>101247.571219</td>\n",
       "    </tr>\n",
       "  </tbody>\n",
       "</table>\n",
       "</div>"
      ]
     },
     "execution_count": 6,
     "metadata": {},
     "output_type": "execute_result"
    }
   ],
   "execution_count": 6
  },
  {
   "cell_type": "code",
   "id": "12ad35814bfa2b7d",
   "metadata": {
    "ExecuteTime": {
     "end_time": "2025-06-14T14:56:29.188049Z",
     "start_time": "2025-06-14T14:56:29.173187Z"
    }
   },
   "source": [
    "df['basement_quality'].unique()"
   ],
   "outputs": [
    {
     "data": {
      "text/plain": [
       "array(['Excellent', 'Good', 'Poor', nan, 'Fair'], dtype=object)"
      ]
     },
     "execution_count": 7,
     "metadata": {},
     "output_type": "execute_result"
    }
   ],
   "execution_count": 7
  },
  {
   "cell_type": "code",
   "id": "ae47303d5830adfb",
   "metadata": {
    "ExecuteTime": {
     "end_time": "2025-06-14T14:56:29.967638Z",
     "start_time": "2025-06-14T14:56:29.952274Z"
    }
   },
   "source": [
    "df['basement_quality']=df['basement_quality'].replace(to_replace={'Excellent':4,'Good':3,'Fair':2,'Poor':1})"
   ],
   "outputs": [
    {
     "name": "stderr",
     "output_type": "stream",
     "text": [
      "/var/folders/8k/zvxl83yn6b9_cfl3t_rvc8rw0000gn/T/ipykernel_1918/1745469168.py:1: FutureWarning: Downcasting behavior in `replace` is deprecated and will be removed in a future version. To retain the old behavior, explicitly call `result.infer_objects(copy=False)`. To opt-in to the future behavior, set `pd.set_option('future.no_silent_downcasting', True)`\n",
      "  df['basement_quality']=df['basement_quality'].replace(to_replace={'Excellent':4,'Good':3,'Fair':2,'Poor':1})\n"
     ]
    }
   ],
   "execution_count": 8
  },
  {
   "cell_type": "code",
   "id": "cacd91ccff9e92ae",
   "metadata": {
    "ExecuteTime": {
     "end_time": "2025-06-14T14:56:30.695435Z",
     "start_time": "2025-06-14T14:56:30.630727Z"
    }
   },
   "source": [
    "df"
   ],
   "outputs": [
    {
     "data": {
      "text/plain": [
       "     bedrooms     lot_size  distance_to_city_center  crime_rate  \\\n",
       "0           4  6958.218211                15.159223   17.483863   \n",
       "1           5  5031.505762                 2.572198   50.256608   \n",
       "2           3  6022.929457                11.335251   39.866303   \n",
       "3           5  4534.599865                14.448154   14.637399   \n",
       "4           5  5486.249529                10.411420   36.753442   \n",
       "..        ...          ...                      ...         ...   \n",
       "495         1  3658.089047                12.373491   93.830482   \n",
       "496         3  4719.692534                 9.874865   87.120448   \n",
       "497         1  4340.403413                14.088831   76.606478   \n",
       "498         1  7170.466827                16.951038   78.844734   \n",
       "499         1  5294.832165                12.789052   66.498490   \n",
       "\n",
       "     age_of_building  nearby_schools  avg_neighbourhood_income  \\\n",
       "0                 82               5              49027.298942   \n",
       "1                 97               2              44652.067330   \n",
       "2                  6               5              44550.979936   \n",
       "3                 91               9              48764.527936   \n",
       "4                 23               9              78260.603546   \n",
       "..               ...             ...                       ...   \n",
       "495               61               5              48582.204228   \n",
       "496               31               4              54277.137912   \n",
       "497               80               8              51297.845227   \n",
       "498               96               9                       NaN   \n",
       "499               22               7              42921.489404   \n",
       "\n",
       "     property_tax_rate  has_garage  basement_quality          price  \n",
       "0             0.625130           0               4.0  202070.267189  \n",
       "1             0.921014           0               3.0  236653.003295  \n",
       "2             2.118047           0               1.0  134004.412359  \n",
       "3             0.793844           0               3.0  213226.811216  \n",
       "4             1.185290           0               NaN  220244.551532  \n",
       "..                 ...         ...               ...            ...  \n",
       "495           0.812403           0               3.0   51665.414056  \n",
       "496           2.476842           0               3.0  145399.640815  \n",
       "497           2.454560           1               4.0  121334.473679  \n",
       "498           2.087636           0               NaN   81596.534754  \n",
       "499           1.818846           1               3.0   77946.282233  \n",
       "\n",
       "[500 rows x 11 columns]"
      ],
      "text/html": [
       "<div>\n",
       "<style scoped>\n",
       "    .dataframe tbody tr th:only-of-type {\n",
       "        vertical-align: middle;\n",
       "    }\n",
       "\n",
       "    .dataframe tbody tr th {\n",
       "        vertical-align: top;\n",
       "    }\n",
       "\n",
       "    .dataframe thead th {\n",
       "        text-align: right;\n",
       "    }\n",
       "</style>\n",
       "<table border=\"1\" class=\"dataframe\">\n",
       "  <thead>\n",
       "    <tr style=\"text-align: right;\">\n",
       "      <th></th>\n",
       "      <th>bedrooms</th>\n",
       "      <th>lot_size</th>\n",
       "      <th>distance_to_city_center</th>\n",
       "      <th>crime_rate</th>\n",
       "      <th>age_of_building</th>\n",
       "      <th>nearby_schools</th>\n",
       "      <th>avg_neighbourhood_income</th>\n",
       "      <th>property_tax_rate</th>\n",
       "      <th>has_garage</th>\n",
       "      <th>basement_quality</th>\n",
       "      <th>price</th>\n",
       "    </tr>\n",
       "  </thead>\n",
       "  <tbody>\n",
       "    <tr>\n",
       "      <th>0</th>\n",
       "      <td>4</td>\n",
       "      <td>6958.218211</td>\n",
       "      <td>15.159223</td>\n",
       "      <td>17.483863</td>\n",
       "      <td>82</td>\n",
       "      <td>5</td>\n",
       "      <td>49027.298942</td>\n",
       "      <td>0.625130</td>\n",
       "      <td>0</td>\n",
       "      <td>4.0</td>\n",
       "      <td>202070.267189</td>\n",
       "    </tr>\n",
       "    <tr>\n",
       "      <th>1</th>\n",
       "      <td>5</td>\n",
       "      <td>5031.505762</td>\n",
       "      <td>2.572198</td>\n",
       "      <td>50.256608</td>\n",
       "      <td>97</td>\n",
       "      <td>2</td>\n",
       "      <td>44652.067330</td>\n",
       "      <td>0.921014</td>\n",
       "      <td>0</td>\n",
       "      <td>3.0</td>\n",
       "      <td>236653.003295</td>\n",
       "    </tr>\n",
       "    <tr>\n",
       "      <th>2</th>\n",
       "      <td>3</td>\n",
       "      <td>6022.929457</td>\n",
       "      <td>11.335251</td>\n",
       "      <td>39.866303</td>\n",
       "      <td>6</td>\n",
       "      <td>5</td>\n",
       "      <td>44550.979936</td>\n",
       "      <td>2.118047</td>\n",
       "      <td>0</td>\n",
       "      <td>1.0</td>\n",
       "      <td>134004.412359</td>\n",
       "    </tr>\n",
       "    <tr>\n",
       "      <th>3</th>\n",
       "      <td>5</td>\n",
       "      <td>4534.599865</td>\n",
       "      <td>14.448154</td>\n",
       "      <td>14.637399</td>\n",
       "      <td>91</td>\n",
       "      <td>9</td>\n",
       "      <td>48764.527936</td>\n",
       "      <td>0.793844</td>\n",
       "      <td>0</td>\n",
       "      <td>3.0</td>\n",
       "      <td>213226.811216</td>\n",
       "    </tr>\n",
       "    <tr>\n",
       "      <th>4</th>\n",
       "      <td>5</td>\n",
       "      <td>5486.249529</td>\n",
       "      <td>10.411420</td>\n",
       "      <td>36.753442</td>\n",
       "      <td>23</td>\n",
       "      <td>9</td>\n",
       "      <td>78260.603546</td>\n",
       "      <td>1.185290</td>\n",
       "      <td>0</td>\n",
       "      <td>NaN</td>\n",
       "      <td>220244.551532</td>\n",
       "    </tr>\n",
       "    <tr>\n",
       "      <th>...</th>\n",
       "      <td>...</td>\n",
       "      <td>...</td>\n",
       "      <td>...</td>\n",
       "      <td>...</td>\n",
       "      <td>...</td>\n",
       "      <td>...</td>\n",
       "      <td>...</td>\n",
       "      <td>...</td>\n",
       "      <td>...</td>\n",
       "      <td>...</td>\n",
       "      <td>...</td>\n",
       "    </tr>\n",
       "    <tr>\n",
       "      <th>495</th>\n",
       "      <td>1</td>\n",
       "      <td>3658.089047</td>\n",
       "      <td>12.373491</td>\n",
       "      <td>93.830482</td>\n",
       "      <td>61</td>\n",
       "      <td>5</td>\n",
       "      <td>48582.204228</td>\n",
       "      <td>0.812403</td>\n",
       "      <td>0</td>\n",
       "      <td>3.0</td>\n",
       "      <td>51665.414056</td>\n",
       "    </tr>\n",
       "    <tr>\n",
       "      <th>496</th>\n",
       "      <td>3</td>\n",
       "      <td>4719.692534</td>\n",
       "      <td>9.874865</td>\n",
       "      <td>87.120448</td>\n",
       "      <td>31</td>\n",
       "      <td>4</td>\n",
       "      <td>54277.137912</td>\n",
       "      <td>2.476842</td>\n",
       "      <td>0</td>\n",
       "      <td>3.0</td>\n",
       "      <td>145399.640815</td>\n",
       "    </tr>\n",
       "    <tr>\n",
       "      <th>497</th>\n",
       "      <td>1</td>\n",
       "      <td>4340.403413</td>\n",
       "      <td>14.088831</td>\n",
       "      <td>76.606478</td>\n",
       "      <td>80</td>\n",
       "      <td>8</td>\n",
       "      <td>51297.845227</td>\n",
       "      <td>2.454560</td>\n",
       "      <td>1</td>\n",
       "      <td>4.0</td>\n",
       "      <td>121334.473679</td>\n",
       "    </tr>\n",
       "    <tr>\n",
       "      <th>498</th>\n",
       "      <td>1</td>\n",
       "      <td>7170.466827</td>\n",
       "      <td>16.951038</td>\n",
       "      <td>78.844734</td>\n",
       "      <td>96</td>\n",
       "      <td>9</td>\n",
       "      <td>NaN</td>\n",
       "      <td>2.087636</td>\n",
       "      <td>0</td>\n",
       "      <td>NaN</td>\n",
       "      <td>81596.534754</td>\n",
       "    </tr>\n",
       "    <tr>\n",
       "      <th>499</th>\n",
       "      <td>1</td>\n",
       "      <td>5294.832165</td>\n",
       "      <td>12.789052</td>\n",
       "      <td>66.498490</td>\n",
       "      <td>22</td>\n",
       "      <td>7</td>\n",
       "      <td>42921.489404</td>\n",
       "      <td>1.818846</td>\n",
       "      <td>1</td>\n",
       "      <td>3.0</td>\n",
       "      <td>77946.282233</td>\n",
       "    </tr>\n",
       "  </tbody>\n",
       "</table>\n",
       "<p>500 rows × 11 columns</p>\n",
       "</div>"
      ]
     },
     "execution_count": 9,
     "metadata": {},
     "output_type": "execute_result"
    }
   ],
   "execution_count": 9
  },
  {
   "cell_type": "code",
   "id": "13df1abc4d6e590a",
   "metadata": {
    "ExecuteTime": {
     "end_time": "2025-06-14T14:56:30.999549Z",
     "start_time": "2025-06-14T14:56:30.990776Z"
    }
   },
   "source": [
    "df['basement_quality']=df['basement_quality'].fillna(0)"
   ],
   "outputs": [],
   "execution_count": 10
  },
  {
   "cell_type": "code",
   "id": "767d422129cb15c3",
   "metadata": {
    "ExecuteTime": {
     "end_time": "2025-06-14T14:56:31.337788Z",
     "start_time": "2025-06-14T14:56:31.322344Z"
    }
   },
   "source": [
    "df.isnull().sum()"
   ],
   "outputs": [
    {
     "data": {
      "text/plain": [
       "bedrooms                     0\n",
       "lot_size                     0\n",
       "distance_to_city_center      0\n",
       "crime_rate                   0\n",
       "age_of_building              0\n",
       "nearby_schools               0\n",
       "avg_neighbourhood_income    10\n",
       "property_tax_rate            0\n",
       "has_garage                   0\n",
       "basement_quality             0\n",
       "price                        0\n",
       "dtype: int64"
      ]
     },
     "execution_count": 11,
     "metadata": {},
     "output_type": "execute_result"
    }
   ],
   "execution_count": 11
  },
  {
   "cell_type": "code",
   "id": "850ffbf2d3ef4a95",
   "metadata": {
    "ExecuteTime": {
     "end_time": "2025-06-14T14:56:32.370287Z",
     "start_time": "2025-06-14T14:56:32.349144Z"
    }
   },
   "source": [
    "df.info()"
   ],
   "outputs": [
    {
     "name": "stdout",
     "output_type": "stream",
     "text": [
      "<class 'pandas.core.frame.DataFrame'>\n",
      "RangeIndex: 500 entries, 0 to 499\n",
      "Data columns (total 11 columns):\n",
      " #   Column                    Non-Null Count  Dtype  \n",
      "---  ------                    --------------  -----  \n",
      " 0   bedrooms                  500 non-null    int64  \n",
      " 1   lot_size                  500 non-null    float64\n",
      " 2   distance_to_city_center   500 non-null    float64\n",
      " 3   crime_rate                500 non-null    float64\n",
      " 4   age_of_building           500 non-null    int64  \n",
      " 5   nearby_schools            500 non-null    int64  \n",
      " 6   avg_neighbourhood_income  490 non-null    float64\n",
      " 7   property_tax_rate         500 non-null    float64\n",
      " 8   has_garage                500 non-null    int64  \n",
      " 9   basement_quality          500 non-null    float64\n",
      " 10  price                     500 non-null    float64\n",
      "dtypes: float64(7), int64(4)\n",
      "memory usage: 43.1 KB\n"
     ]
    }
   ],
   "execution_count": 12
  },
  {
   "cell_type": "code",
   "id": "18feaca7a1a0a34",
   "metadata": {
    "ExecuteTime": {
     "end_time": "2025-06-14T14:56:32.923959Z",
     "start_time": "2025-06-14T14:56:32.903499Z"
    }
   },
   "source": [
    "df.isnull().sum()"
   ],
   "outputs": [
    {
     "data": {
      "text/plain": [
       "bedrooms                     0\n",
       "lot_size                     0\n",
       "distance_to_city_center      0\n",
       "crime_rate                   0\n",
       "age_of_building              0\n",
       "nearby_schools               0\n",
       "avg_neighbourhood_income    10\n",
       "property_tax_rate            0\n",
       "has_garage                   0\n",
       "basement_quality             0\n",
       "price                        0\n",
       "dtype: int64"
      ]
     },
     "execution_count": 13,
     "metadata": {},
     "output_type": "execute_result"
    }
   ],
   "execution_count": 13
  },
  {
   "cell_type": "code",
   "id": "7f9f9f84c06a4ca5",
   "metadata": {
    "ExecuteTime": {
     "end_time": "2025-06-14T14:56:33.330297Z",
     "start_time": "2025-06-14T14:56:33.292173Z"
    }
   },
   "source": [
    "df[df.isnull().any(axis=1)]"
   ],
   "outputs": [
    {
     "data": {
      "text/plain": [
       "     bedrooms     lot_size  distance_to_city_center  crime_rate  \\\n",
       "16          4  4981.629841                 3.277747   64.082631   \n",
       "107         4  7633.011264                 4.867424    7.208434   \n",
       "121         4  5111.142171                 7.489729   76.437266   \n",
       "195         3  3753.574825                 7.323824   46.155747   \n",
       "296         5  5981.548485                 9.046588   72.793931   \n",
       "317         2  7294.325479                12.109604   77.671056   \n",
       "326         3  4496.322951                 8.512182   34.734333   \n",
       "477         1  5311.531531                22.464998   12.626474   \n",
       "478         5  5407.368256                 9.969645   67.617756   \n",
       "498         1  7170.466827                16.951038   78.844734   \n",
       "\n",
       "     age_of_building  nearby_schools  avg_neighbourhood_income  \\\n",
       "16                78               9                       NaN   \n",
       "107               47               0                       NaN   \n",
       "121               55               5                       NaN   \n",
       "195               11               2                       NaN   \n",
       "296               30               2                       NaN   \n",
       "317               28               7                       NaN   \n",
       "326               20               5                       NaN   \n",
       "477               35               7                       NaN   \n",
       "478               48               9                       NaN   \n",
       "498               96               9                       NaN   \n",
       "\n",
       "     property_tax_rate  has_garage  basement_quality          price  \n",
       "16            1.747997           0               1.0  248793.413171  \n",
       "107           1.474531           0               2.0  232465.095655  \n",
       "121           1.519708           0               1.0  177828.363974  \n",
       "195           0.993317           1               2.0  181510.299912  \n",
       "296           1.106572           0               0.0  203178.732386  \n",
       "317           1.209332           1               4.0  160578.071959  \n",
       "326           1.209795           1               3.0  174795.329286  \n",
       "477           2.272172           0               4.0  129525.824739  \n",
       "478           2.291380           0               1.0  211696.348442  \n",
       "498           2.087636           0               0.0   81596.534754  "
      ],
      "text/html": [
       "<div>\n",
       "<style scoped>\n",
       "    .dataframe tbody tr th:only-of-type {\n",
       "        vertical-align: middle;\n",
       "    }\n",
       "\n",
       "    .dataframe tbody tr th {\n",
       "        vertical-align: top;\n",
       "    }\n",
       "\n",
       "    .dataframe thead th {\n",
       "        text-align: right;\n",
       "    }\n",
       "</style>\n",
       "<table border=\"1\" class=\"dataframe\">\n",
       "  <thead>\n",
       "    <tr style=\"text-align: right;\">\n",
       "      <th></th>\n",
       "      <th>bedrooms</th>\n",
       "      <th>lot_size</th>\n",
       "      <th>distance_to_city_center</th>\n",
       "      <th>crime_rate</th>\n",
       "      <th>age_of_building</th>\n",
       "      <th>nearby_schools</th>\n",
       "      <th>avg_neighbourhood_income</th>\n",
       "      <th>property_tax_rate</th>\n",
       "      <th>has_garage</th>\n",
       "      <th>basement_quality</th>\n",
       "      <th>price</th>\n",
       "    </tr>\n",
       "  </thead>\n",
       "  <tbody>\n",
       "    <tr>\n",
       "      <th>16</th>\n",
       "      <td>4</td>\n",
       "      <td>4981.629841</td>\n",
       "      <td>3.277747</td>\n",
       "      <td>64.082631</td>\n",
       "      <td>78</td>\n",
       "      <td>9</td>\n",
       "      <td>NaN</td>\n",
       "      <td>1.747997</td>\n",
       "      <td>0</td>\n",
       "      <td>1.0</td>\n",
       "      <td>248793.413171</td>\n",
       "    </tr>\n",
       "    <tr>\n",
       "      <th>107</th>\n",
       "      <td>4</td>\n",
       "      <td>7633.011264</td>\n",
       "      <td>4.867424</td>\n",
       "      <td>7.208434</td>\n",
       "      <td>47</td>\n",
       "      <td>0</td>\n",
       "      <td>NaN</td>\n",
       "      <td>1.474531</td>\n",
       "      <td>0</td>\n",
       "      <td>2.0</td>\n",
       "      <td>232465.095655</td>\n",
       "    </tr>\n",
       "    <tr>\n",
       "      <th>121</th>\n",
       "      <td>4</td>\n",
       "      <td>5111.142171</td>\n",
       "      <td>7.489729</td>\n",
       "      <td>76.437266</td>\n",
       "      <td>55</td>\n",
       "      <td>5</td>\n",
       "      <td>NaN</td>\n",
       "      <td>1.519708</td>\n",
       "      <td>0</td>\n",
       "      <td>1.0</td>\n",
       "      <td>177828.363974</td>\n",
       "    </tr>\n",
       "    <tr>\n",
       "      <th>195</th>\n",
       "      <td>3</td>\n",
       "      <td>3753.574825</td>\n",
       "      <td>7.323824</td>\n",
       "      <td>46.155747</td>\n",
       "      <td>11</td>\n",
       "      <td>2</td>\n",
       "      <td>NaN</td>\n",
       "      <td>0.993317</td>\n",
       "      <td>1</td>\n",
       "      <td>2.0</td>\n",
       "      <td>181510.299912</td>\n",
       "    </tr>\n",
       "    <tr>\n",
       "      <th>296</th>\n",
       "      <td>5</td>\n",
       "      <td>5981.548485</td>\n",
       "      <td>9.046588</td>\n",
       "      <td>72.793931</td>\n",
       "      <td>30</td>\n",
       "      <td>2</td>\n",
       "      <td>NaN</td>\n",
       "      <td>1.106572</td>\n",
       "      <td>0</td>\n",
       "      <td>0.0</td>\n",
       "      <td>203178.732386</td>\n",
       "    </tr>\n",
       "    <tr>\n",
       "      <th>317</th>\n",
       "      <td>2</td>\n",
       "      <td>7294.325479</td>\n",
       "      <td>12.109604</td>\n",
       "      <td>77.671056</td>\n",
       "      <td>28</td>\n",
       "      <td>7</td>\n",
       "      <td>NaN</td>\n",
       "      <td>1.209332</td>\n",
       "      <td>1</td>\n",
       "      <td>4.0</td>\n",
       "      <td>160578.071959</td>\n",
       "    </tr>\n",
       "    <tr>\n",
       "      <th>326</th>\n",
       "      <td>3</td>\n",
       "      <td>4496.322951</td>\n",
       "      <td>8.512182</td>\n",
       "      <td>34.734333</td>\n",
       "      <td>20</td>\n",
       "      <td>5</td>\n",
       "      <td>NaN</td>\n",
       "      <td>1.209795</td>\n",
       "      <td>1</td>\n",
       "      <td>3.0</td>\n",
       "      <td>174795.329286</td>\n",
       "    </tr>\n",
       "    <tr>\n",
       "      <th>477</th>\n",
       "      <td>1</td>\n",
       "      <td>5311.531531</td>\n",
       "      <td>22.464998</td>\n",
       "      <td>12.626474</td>\n",
       "      <td>35</td>\n",
       "      <td>7</td>\n",
       "      <td>NaN</td>\n",
       "      <td>2.272172</td>\n",
       "      <td>0</td>\n",
       "      <td>4.0</td>\n",
       "      <td>129525.824739</td>\n",
       "    </tr>\n",
       "    <tr>\n",
       "      <th>478</th>\n",
       "      <td>5</td>\n",
       "      <td>5407.368256</td>\n",
       "      <td>9.969645</td>\n",
       "      <td>67.617756</td>\n",
       "      <td>48</td>\n",
       "      <td>9</td>\n",
       "      <td>NaN</td>\n",
       "      <td>2.291380</td>\n",
       "      <td>0</td>\n",
       "      <td>1.0</td>\n",
       "      <td>211696.348442</td>\n",
       "    </tr>\n",
       "    <tr>\n",
       "      <th>498</th>\n",
       "      <td>1</td>\n",
       "      <td>7170.466827</td>\n",
       "      <td>16.951038</td>\n",
       "      <td>78.844734</td>\n",
       "      <td>96</td>\n",
       "      <td>9</td>\n",
       "      <td>NaN</td>\n",
       "      <td>2.087636</td>\n",
       "      <td>0</td>\n",
       "      <td>0.0</td>\n",
       "      <td>81596.534754</td>\n",
       "    </tr>\n",
       "  </tbody>\n",
       "</table>\n",
       "</div>"
      ]
     },
     "execution_count": 14,
     "metadata": {},
     "output_type": "execute_result"
    }
   ],
   "execution_count": 14
  },
  {
   "cell_type": "code",
   "id": "c8c2c1b064dbe7f0",
   "metadata": {
    "ExecuteTime": {
     "end_time": "2025-06-14T14:56:33.910724Z",
     "start_time": "2025-06-14T14:56:33.892628Z"
    }
   },
   "source": [
    "df.dtypes"
   ],
   "outputs": [
    {
     "data": {
      "text/plain": [
       "bedrooms                      int64\n",
       "lot_size                    float64\n",
       "distance_to_city_center     float64\n",
       "crime_rate                  float64\n",
       "age_of_building               int64\n",
       "nearby_schools                int64\n",
       "avg_neighbourhood_income    float64\n",
       "property_tax_rate           float64\n",
       "has_garage                    int64\n",
       "basement_quality            float64\n",
       "price                       float64\n",
       "dtype: object"
      ]
     },
     "execution_count": 15,
     "metadata": {},
     "output_type": "execute_result"
    }
   ],
   "execution_count": 15
  },
  {
   "cell_type": "code",
   "id": "5fe9951aff9e9d38",
   "metadata": {
    "ExecuteTime": {
     "end_time": "2025-06-14T14:56:34.676092Z",
     "start_time": "2025-06-14T14:56:34.631259Z"
    }
   },
   "source": [
    "def missing_percentage(daf):\n",
    "    percent_missing=100* daf.isnull().sum() /len(df)\n",
    "    greate_than_zero=percent_missing[percent_missing>0].sort_values()\n",
    "    return greate_than_zero\n",
    "\n",
    "missing_values=missing_percentage(df)\n",
    "print(missing_values)"
   ],
   "outputs": [
    {
     "name": "stdout",
     "output_type": "stream",
     "text": [
      "avg_neighbourhood_income    2.0\n",
      "dtype: float64\n"
     ]
    }
   ],
   "execution_count": 16
  },
  {
   "cell_type": "code",
   "id": "87fb75e16ff71035",
   "metadata": {
    "ExecuteTime": {
     "end_time": "2025-06-14T14:56:35.419848Z",
     "start_time": "2025-06-14T14:56:35.401394Z"
    }
   },
   "source": [
    "len(df)"
   ],
   "outputs": [
    {
     "data": {
      "text/plain": [
       "500"
      ]
     },
     "execution_count": 17,
     "metadata": {},
     "output_type": "execute_result"
    }
   ],
   "execution_count": 17
  },
  {
   "cell_type": "code",
   "id": "4cf0a143816f47b",
   "metadata": {
    "ExecuteTime": {
     "end_time": "2025-06-14T14:56:35.779954Z",
     "start_time": "2025-06-14T14:56:35.764936Z"
    }
   },
   "source": [
    "df=df.dropna(axis=0)"
   ],
   "outputs": [],
   "execution_count": 18
  },
  {
   "cell_type": "code",
   "id": "41c18d9f962d2626",
   "metadata": {
    "ExecuteTime": {
     "end_time": "2025-06-14T14:56:35.988474Z",
     "start_time": "2025-06-14T14:56:35.976600Z"
    }
   },
   "source": [
    "df.isnull().sum()"
   ],
   "outputs": [
    {
     "data": {
      "text/plain": [
       "bedrooms                    0\n",
       "lot_size                    0\n",
       "distance_to_city_center     0\n",
       "crime_rate                  0\n",
       "age_of_building             0\n",
       "nearby_schools              0\n",
       "avg_neighbourhood_income    0\n",
       "property_tax_rate           0\n",
       "has_garage                  0\n",
       "basement_quality            0\n",
       "price                       0\n",
       "dtype: int64"
      ]
     },
     "execution_count": 19,
     "metadata": {},
     "output_type": "execute_result"
    }
   ],
   "execution_count": 19
  },
  {
   "cell_type": "code",
   "id": "11c96a7880c05e25",
   "metadata": {
    "ExecuteTime": {
     "end_time": "2025-06-14T14:56:36.278151Z",
     "start_time": "2025-06-14T14:56:36.260158Z"
    }
   },
   "source": [
    "df.corr()['price'].sort_values()"
   ],
   "outputs": [
    {
     "data": {
      "text/plain": [
       "distance_to_city_center    -0.212829\n",
       "crime_rate                 -0.063224\n",
       "age_of_building            -0.034512\n",
       "avg_neighbourhood_income    0.029744\n",
       "property_tax_rate           0.035094\n",
       "basement_quality            0.076145\n",
       "lot_size                    0.106793\n",
       "nearby_schools              0.208047\n",
       "has_garage                  0.209292\n",
       "bedrooms                    0.812221\n",
       "price                       1.000000\n",
       "Name: price, dtype: float64"
      ]
     },
     "execution_count": 20,
     "metadata": {},
     "output_type": "execute_result"
    }
   ],
   "execution_count": 20
  },
  {
   "cell_type": "code",
   "id": "54140b64ee48cc73",
   "metadata": {
    "ExecuteTime": {
     "end_time": "2025-06-14T14:56:36.832621Z",
     "start_time": "2025-06-14T14:56:36.761717Z"
    }
   },
   "source": [
    "df.describe()"
   ],
   "outputs": [
    {
     "data": {
      "text/plain": [
       "         bedrooms      lot_size  distance_to_city_center  crime_rate  \\\n",
       "count  490.000000    490.000000               490.000000  490.000000   \n",
       "mean     2.965306   5063.245066                10.672322   49.741557   \n",
       "std      1.426029   1799.449324                 4.815978   28.880365   \n",
       "min      1.000000    954.670036                 0.008997    0.321826   \n",
       "25%      2.000000   3924.433083                 7.186053   24.081990   \n",
       "50%      3.000000   4980.135667                10.666276   50.552973   \n",
       "75%      4.000000   5947.088272                13.800216   74.863805   \n",
       "max      5.000000  19222.277127                22.898547   99.834751   \n",
       "\n",
       "       age_of_building  nearby_schools  avg_neighbourhood_income  \\\n",
       "count       490.000000      490.000000                490.000000   \n",
       "mean         50.065306        4.575510              60633.752930   \n",
       "std          27.448927        2.859958              14485.062827   \n",
       "min           1.000000        0.000000              19728.179293   \n",
       "25%          27.250000        2.000000              49786.165329   \n",
       "50%          49.000000        5.000000              61237.889533   \n",
       "75%          73.000000        7.000000              71560.319006   \n",
       "max          99.000000        9.000000             105929.204481   \n",
       "\n",
       "       property_tax_rate  has_garage  basement_quality          price  \n",
       "count         490.000000  490.000000        490.000000     490.000000  \n",
       "mean            1.467495    0.522449          2.528571  179047.977328  \n",
       "std             0.576127    0.500006          1.181054   53617.099153  \n",
       "min             0.501307    0.000000          0.000000   43404.603230  \n",
       "25%             0.962809    0.000000          2.000000  136915.787230  \n",
       "50%             1.418708    1.000000          3.000000  182378.893191  \n",
       "75%             1.978034    1.000000          3.000000  217286.820200  \n",
       "max             2.499115    1.000000          4.000000  304224.739077  "
      ],
      "text/html": [
       "<div>\n",
       "<style scoped>\n",
       "    .dataframe tbody tr th:only-of-type {\n",
       "        vertical-align: middle;\n",
       "    }\n",
       "\n",
       "    .dataframe tbody tr th {\n",
       "        vertical-align: top;\n",
       "    }\n",
       "\n",
       "    .dataframe thead th {\n",
       "        text-align: right;\n",
       "    }\n",
       "</style>\n",
       "<table border=\"1\" class=\"dataframe\">\n",
       "  <thead>\n",
       "    <tr style=\"text-align: right;\">\n",
       "      <th></th>\n",
       "      <th>bedrooms</th>\n",
       "      <th>lot_size</th>\n",
       "      <th>distance_to_city_center</th>\n",
       "      <th>crime_rate</th>\n",
       "      <th>age_of_building</th>\n",
       "      <th>nearby_schools</th>\n",
       "      <th>avg_neighbourhood_income</th>\n",
       "      <th>property_tax_rate</th>\n",
       "      <th>has_garage</th>\n",
       "      <th>basement_quality</th>\n",
       "      <th>price</th>\n",
       "    </tr>\n",
       "  </thead>\n",
       "  <tbody>\n",
       "    <tr>\n",
       "      <th>count</th>\n",
       "      <td>490.000000</td>\n",
       "      <td>490.000000</td>\n",
       "      <td>490.000000</td>\n",
       "      <td>490.000000</td>\n",
       "      <td>490.000000</td>\n",
       "      <td>490.000000</td>\n",
       "      <td>490.000000</td>\n",
       "      <td>490.000000</td>\n",
       "      <td>490.000000</td>\n",
       "      <td>490.000000</td>\n",
       "      <td>490.000000</td>\n",
       "    </tr>\n",
       "    <tr>\n",
       "      <th>mean</th>\n",
       "      <td>2.965306</td>\n",
       "      <td>5063.245066</td>\n",
       "      <td>10.672322</td>\n",
       "      <td>49.741557</td>\n",
       "      <td>50.065306</td>\n",
       "      <td>4.575510</td>\n",
       "      <td>60633.752930</td>\n",
       "      <td>1.467495</td>\n",
       "      <td>0.522449</td>\n",
       "      <td>2.528571</td>\n",
       "      <td>179047.977328</td>\n",
       "    </tr>\n",
       "    <tr>\n",
       "      <th>std</th>\n",
       "      <td>1.426029</td>\n",
       "      <td>1799.449324</td>\n",
       "      <td>4.815978</td>\n",
       "      <td>28.880365</td>\n",
       "      <td>27.448927</td>\n",
       "      <td>2.859958</td>\n",
       "      <td>14485.062827</td>\n",
       "      <td>0.576127</td>\n",
       "      <td>0.500006</td>\n",
       "      <td>1.181054</td>\n",
       "      <td>53617.099153</td>\n",
       "    </tr>\n",
       "    <tr>\n",
       "      <th>min</th>\n",
       "      <td>1.000000</td>\n",
       "      <td>954.670036</td>\n",
       "      <td>0.008997</td>\n",
       "      <td>0.321826</td>\n",
       "      <td>1.000000</td>\n",
       "      <td>0.000000</td>\n",
       "      <td>19728.179293</td>\n",
       "      <td>0.501307</td>\n",
       "      <td>0.000000</td>\n",
       "      <td>0.000000</td>\n",
       "      <td>43404.603230</td>\n",
       "    </tr>\n",
       "    <tr>\n",
       "      <th>25%</th>\n",
       "      <td>2.000000</td>\n",
       "      <td>3924.433083</td>\n",
       "      <td>7.186053</td>\n",
       "      <td>24.081990</td>\n",
       "      <td>27.250000</td>\n",
       "      <td>2.000000</td>\n",
       "      <td>49786.165329</td>\n",
       "      <td>0.962809</td>\n",
       "      <td>0.000000</td>\n",
       "      <td>2.000000</td>\n",
       "      <td>136915.787230</td>\n",
       "    </tr>\n",
       "    <tr>\n",
       "      <th>50%</th>\n",
       "      <td>3.000000</td>\n",
       "      <td>4980.135667</td>\n",
       "      <td>10.666276</td>\n",
       "      <td>50.552973</td>\n",
       "      <td>49.000000</td>\n",
       "      <td>5.000000</td>\n",
       "      <td>61237.889533</td>\n",
       "      <td>1.418708</td>\n",
       "      <td>1.000000</td>\n",
       "      <td>3.000000</td>\n",
       "      <td>182378.893191</td>\n",
       "    </tr>\n",
       "    <tr>\n",
       "      <th>75%</th>\n",
       "      <td>4.000000</td>\n",
       "      <td>5947.088272</td>\n",
       "      <td>13.800216</td>\n",
       "      <td>74.863805</td>\n",
       "      <td>73.000000</td>\n",
       "      <td>7.000000</td>\n",
       "      <td>71560.319006</td>\n",
       "      <td>1.978034</td>\n",
       "      <td>1.000000</td>\n",
       "      <td>3.000000</td>\n",
       "      <td>217286.820200</td>\n",
       "    </tr>\n",
       "    <tr>\n",
       "      <th>max</th>\n",
       "      <td>5.000000</td>\n",
       "      <td>19222.277127</td>\n",
       "      <td>22.898547</td>\n",
       "      <td>99.834751</td>\n",
       "      <td>99.000000</td>\n",
       "      <td>9.000000</td>\n",
       "      <td>105929.204481</td>\n",
       "      <td>2.499115</td>\n",
       "      <td>1.000000</td>\n",
       "      <td>4.000000</td>\n",
       "      <td>304224.739077</td>\n",
       "    </tr>\n",
       "  </tbody>\n",
       "</table>\n",
       "</div>"
      ]
     },
     "execution_count": 21,
     "metadata": {},
     "output_type": "execute_result"
    }
   ],
   "execution_count": 21
  },
  {
   "cell_type": "code",
   "id": "5562f07d459d4faf",
   "metadata": {
    "ExecuteTime": {
     "end_time": "2025-06-14T14:56:37.502911Z",
     "start_time": "2025-06-14T14:56:37.432179Z"
    }
   },
   "source": [
    "transpose_df_mean_median=df.describe().loc[['mean','50%']].transpose()\n",
    "transpose_df_mean_median['difference']=abs(transpose_df_mean_median['mean']-transpose_df_mean_median['50%'])\n",
    "transpose_df_mean_median"
   ],
   "outputs": [
    {
     "data": {
      "text/plain": [
       "                                   mean            50%   difference\n",
       "bedrooms                       2.965306       3.000000     0.034694\n",
       "lot_size                    5063.245066    4980.135667    83.109399\n",
       "distance_to_city_center       10.672322      10.666276     0.006046\n",
       "crime_rate                    49.741557      50.552973     0.811416\n",
       "age_of_building               50.065306      49.000000     1.065306\n",
       "nearby_schools                 4.575510       5.000000     0.424490\n",
       "avg_neighbourhood_income   60633.752930   61237.889533   604.136603\n",
       "property_tax_rate              1.467495       1.418708     0.048787\n",
       "has_garage                     0.522449       1.000000     0.477551\n",
       "basement_quality               2.528571       3.000000     0.471429\n",
       "price                     179047.977328  182378.893191  3330.915863"
      ],
      "text/html": [
       "<div>\n",
       "<style scoped>\n",
       "    .dataframe tbody tr th:only-of-type {\n",
       "        vertical-align: middle;\n",
       "    }\n",
       "\n",
       "    .dataframe tbody tr th {\n",
       "        vertical-align: top;\n",
       "    }\n",
       "\n",
       "    .dataframe thead th {\n",
       "        text-align: right;\n",
       "    }\n",
       "</style>\n",
       "<table border=\"1\" class=\"dataframe\">\n",
       "  <thead>\n",
       "    <tr style=\"text-align: right;\">\n",
       "      <th></th>\n",
       "      <th>mean</th>\n",
       "      <th>50%</th>\n",
       "      <th>difference</th>\n",
       "    </tr>\n",
       "  </thead>\n",
       "  <tbody>\n",
       "    <tr>\n",
       "      <th>bedrooms</th>\n",
       "      <td>2.965306</td>\n",
       "      <td>3.000000</td>\n",
       "      <td>0.034694</td>\n",
       "    </tr>\n",
       "    <tr>\n",
       "      <th>lot_size</th>\n",
       "      <td>5063.245066</td>\n",
       "      <td>4980.135667</td>\n",
       "      <td>83.109399</td>\n",
       "    </tr>\n",
       "    <tr>\n",
       "      <th>distance_to_city_center</th>\n",
       "      <td>10.672322</td>\n",
       "      <td>10.666276</td>\n",
       "      <td>0.006046</td>\n",
       "    </tr>\n",
       "    <tr>\n",
       "      <th>crime_rate</th>\n",
       "      <td>49.741557</td>\n",
       "      <td>50.552973</td>\n",
       "      <td>0.811416</td>\n",
       "    </tr>\n",
       "    <tr>\n",
       "      <th>age_of_building</th>\n",
       "      <td>50.065306</td>\n",
       "      <td>49.000000</td>\n",
       "      <td>1.065306</td>\n",
       "    </tr>\n",
       "    <tr>\n",
       "      <th>nearby_schools</th>\n",
       "      <td>4.575510</td>\n",
       "      <td>5.000000</td>\n",
       "      <td>0.424490</td>\n",
       "    </tr>\n",
       "    <tr>\n",
       "      <th>avg_neighbourhood_income</th>\n",
       "      <td>60633.752930</td>\n",
       "      <td>61237.889533</td>\n",
       "      <td>604.136603</td>\n",
       "    </tr>\n",
       "    <tr>\n",
       "      <th>property_tax_rate</th>\n",
       "      <td>1.467495</td>\n",
       "      <td>1.418708</td>\n",
       "      <td>0.048787</td>\n",
       "    </tr>\n",
       "    <tr>\n",
       "      <th>has_garage</th>\n",
       "      <td>0.522449</td>\n",
       "      <td>1.000000</td>\n",
       "      <td>0.477551</td>\n",
       "    </tr>\n",
       "    <tr>\n",
       "      <th>basement_quality</th>\n",
       "      <td>2.528571</td>\n",
       "      <td>3.000000</td>\n",
       "      <td>0.471429</td>\n",
       "    </tr>\n",
       "    <tr>\n",
       "      <th>price</th>\n",
       "      <td>179047.977328</td>\n",
       "      <td>182378.893191</td>\n",
       "      <td>3330.915863</td>\n",
       "    </tr>\n",
       "  </tbody>\n",
       "</table>\n",
       "</div>"
      ]
     },
     "execution_count": 22,
     "metadata": {},
     "output_type": "execute_result"
    }
   ],
   "execution_count": 22
  },
  {
   "cell_type": "code",
   "id": "72cd2f7351f4d180",
   "metadata": {
    "ExecuteTime": {
     "end_time": "2025-06-14T14:56:38.945566Z",
     "start_time": "2025-06-14T14:56:37.972596Z"
    }
   },
   "source": [
    "sns.scatterplot(data=df, x='avg_neighbourhood_income', y='price')"
   ],
   "outputs": [
    {
     "data": {
      "text/plain": [
       "<Axes: xlabel='avg_neighbourhood_income', ylabel='price'>"
      ]
     },
     "execution_count": 23,
     "metadata": {},
     "output_type": "execute_result"
    },
    {
     "data": {
      "text/plain": [
       "<Figure size 640x480 with 1 Axes>"
      ],
      "image/png": "[encoded data removed]"
     },
     "metadata": {},
     "output_type": "display_data"
    }
   ],
   "execution_count": 23
  },
  {
   "cell_type": "code",
   "id": "cdd9ea6d1a27f383",
   "metadata": {
    "ExecuteTime": {
     "end_time": "2025-06-14T14:56:39.842913Z",
     "start_time": "2025-06-14T14:56:39.250625Z"
    }
   },
   "source": [
    "sns.scatterplot(data=df, x='lot_size', y='price')"
   ],
   "outputs": [
    {
     "data": {
      "text/plain": [
       "<Axes: xlabel='lot_size', ylabel='price'>"
      ]
     },
     "execution_count": 24,
     "metadata": {},
     "output_type": "execute_result"
    },
    {
     "data": {
      "text/plain": [
       "<Figure size 640x480 with 1 Axes>"
      ],
      "image/png": "[encoded data removed]"
     },
     "metadata": {},
     "output_type": "display_data"
    }
   ],
   "execution_count": 24
  },
  {
   "cell_type": "code",
   "id": "c824e29d4a85f3f6",
   "metadata": {
    "ExecuteTime": {
     "end_time": "2025-06-14T14:56:48.907092Z",
     "start_time": "2025-06-14T14:56:39.913306Z"
    }
   },
   "source": [
    "plt.figure(figsize=(12,8))\n",
    "sns.boxplot(data=df, y='lot_size', x='price')"
   ],
   "outputs": [
    {
     "data": {
      "text/plain": [
       "<Axes: xlabel='price', ylabel='lot_size'>"
      ]
     },
     "execution_count": 25,
     "metadata": {},
     "output_type": "execute_result"
    },
    {
     "data": {
      "text/plain": [
       "<Figure size 1200x800 with 1 Axes>"
      ],
      "image/png": "[encoded data removed]"
     },
     "metadata": {},
     "output_type": "display_data"
    }
   ],
   "execution_count": 25
  },
  {
   "cell_type": "code",
   "id": "ca4951b1f0e318a3",
   "metadata": {
    "ExecuteTime": {
     "end_time": "2025-06-14T14:56:49.009081Z",
     "start_time": "2025-06-14T14:56:48.973980Z"
    }
   },
   "source": [
    "df[df['lot_size']>12500]"
   ],
   "outputs": [
    {
     "data": {
      "text/plain": [
       "     bedrooms      lot_size  distance_to_city_center  crime_rate  \\\n",
       "118         1  13787.669245                 2.759930   17.410934   \n",
       "161         1  13879.337822                 0.552296   81.594694   \n",
       "197         1  14773.928507                10.987998   24.667886   \n",
       "251         4  13163.660821                 4.401651   33.423832   \n",
       "486         1  19222.277127                 6.659548   27.927609   \n",
       "\n",
       "     age_of_building  nearby_schools  avg_neighbourhood_income  \\\n",
       "118               29               1              61313.673284   \n",
       "161               56               2              68519.126146   \n",
       "197               11               4              60061.395115   \n",
       "251               10               6              68997.889498   \n",
       "486               72               7              50105.965972   \n",
       "\n",
       "     property_tax_rate  has_garage  basement_quality          price  \n",
       "118           1.521162           1               2.0  158128.096870  \n",
       "161           1.722927           0               3.0  130634.168929  \n",
       "197           1.823827           0               1.0   58781.590147  \n",
       "251           0.929392           0               2.0  257791.006711  \n",
       "486           2.148701           0               4.0  101247.571219  "
      ],
      "text/html": [
       "<div>\n",
       "<style scoped>\n",
       "    .dataframe tbody tr th:only-of-type {\n",
       "        vertical-align: middle;\n",
       "    }\n",
       "\n",
       "    .dataframe tbody tr th {\n",
       "        vertical-align: top;\n",
       "    }\n",
       "\n",
       "    .dataframe thead th {\n",
       "        text-align: right;\n",
       "    }\n",
       "</style>\n",
       "<table border=\"1\" class=\"dataframe\">\n",
       "  <thead>\n",
       "    <tr style=\"text-align: right;\">\n",
       "      <th></th>\n",
       "      <th>bedrooms</th>\n",
       "      <th>lot_size</th>\n",
       "      <th>distance_to_city_center</th>\n",
       "      <th>crime_rate</th>\n",
       "      <th>age_of_building</th>\n",
       "      <th>nearby_schools</th>\n",
       "      <th>avg_neighbourhood_income</th>\n",
       "      <th>property_tax_rate</th>\n",
       "      <th>has_garage</th>\n",
       "      <th>basement_quality</th>\n",
       "      <th>price</th>\n",
       "    </tr>\n",
       "  </thead>\n",
       "  <tbody>\n",
       "    <tr>\n",
       "      <th>118</th>\n",
       "      <td>1</td>\n",
       "      <td>13787.669245</td>\n",
       "      <td>2.759930</td>\n",
       "      <td>17.410934</td>\n",
       "      <td>29</td>\n",
       "      <td>1</td>\n",
       "      <td>61313.673284</td>\n",
       "      <td>1.521162</td>\n",
       "      <td>1</td>\n",
       "      <td>2.0</td>\n",
       "      <td>158128.096870</td>\n",
       "    </tr>\n",
       "    <tr>\n",
       "      <th>161</th>\n",
       "      <td>1</td>\n",
       "      <td>13879.337822</td>\n",
       "      <td>0.552296</td>\n",
       "      <td>81.594694</td>\n",
       "      <td>56</td>\n",
       "      <td>2</td>\n",
       "      <td>68519.126146</td>\n",
       "      <td>1.722927</td>\n",
       "      <td>0</td>\n",
       "      <td>3.0</td>\n",
       "      <td>130634.168929</td>\n",
       "    </tr>\n",
       "    <tr>\n",
       "      <th>197</th>\n",
       "      <td>1</td>\n",
       "      <td>14773.928507</td>\n",
       "      <td>10.987998</td>\n",
       "      <td>24.667886</td>\n",
       "      <td>11</td>\n",
       "      <td>4</td>\n",
       "      <td>60061.395115</td>\n",
       "      <td>1.823827</td>\n",
       "      <td>0</td>\n",
       "      <td>1.0</td>\n",
       "      <td>58781.590147</td>\n",
       "    </tr>\n",
       "    <tr>\n",
       "      <th>251</th>\n",
       "      <td>4</td>\n",
       "      <td>13163.660821</td>\n",
       "      <td>4.401651</td>\n",
       "      <td>33.423832</td>\n",
       "      <td>10</td>\n",
       "      <td>6</td>\n",
       "      <td>68997.889498</td>\n",
       "      <td>0.929392</td>\n",
       "      <td>0</td>\n",
       "      <td>2.0</td>\n",
       "      <td>257791.006711</td>\n",
       "    </tr>\n",
       "    <tr>\n",
       "      <th>486</th>\n",
       "      <td>1</td>\n",
       "      <td>19222.277127</td>\n",
       "      <td>6.659548</td>\n",
       "      <td>27.927609</td>\n",
       "      <td>72</td>\n",
       "      <td>7</td>\n",
       "      <td>50105.965972</td>\n",
       "      <td>2.148701</td>\n",
       "      <td>0</td>\n",
       "      <td>4.0</td>\n",
       "      <td>101247.571219</td>\n",
       "    </tr>\n",
       "  </tbody>\n",
       "</table>\n",
       "</div>"
      ]
     },
     "execution_count": 26,
     "metadata": {},
     "output_type": "execute_result"
    }
   ],
   "execution_count": 26
  },
  {
   "cell_type": "code",
   "id": "eb56105969648efb",
   "metadata": {
    "ExecuteTime": {
     "end_time": "2025-06-14T14:56:49.297351Z",
     "start_time": "2025-06-14T14:56:49.267573Z"
    }
   },
   "source": [
    "df[df['avg_neighbourhood_income']>100000]"
   ],
   "outputs": [
    {
     "data": {
      "text/plain": [
       "     bedrooms     lot_size  distance_to_city_center  crime_rate  \\\n",
       "455         2  7718.672837                16.180466    82.16369   \n",
       "\n",
       "     age_of_building  nearby_schools  avg_neighbourhood_income  \\\n",
       "455               70               3             105929.204481   \n",
       "\n",
       "     property_tax_rate  has_garage  basement_quality          price  \n",
       "455           1.485071           1               2.0  135859.368366  "
      ],
      "text/html": [
       "<div>\n",
       "<style scoped>\n",
       "    .dataframe tbody tr th:only-of-type {\n",
       "        vertical-align: middle;\n",
       "    }\n",
       "\n",
       "    .dataframe tbody tr th {\n",
       "        vertical-align: top;\n",
       "    }\n",
       "\n",
       "    .dataframe thead th {\n",
       "        text-align: right;\n",
       "    }\n",
       "</style>\n",
       "<table border=\"1\" class=\"dataframe\">\n",
       "  <thead>\n",
       "    <tr style=\"text-align: right;\">\n",
       "      <th></th>\n",
       "      <th>bedrooms</th>\n",
       "      <th>lot_size</th>\n",
       "      <th>distance_to_city_center</th>\n",
       "      <th>crime_rate</th>\n",
       "      <th>age_of_building</th>\n",
       "      <th>nearby_schools</th>\n",
       "      <th>avg_neighbourhood_income</th>\n",
       "      <th>property_tax_rate</th>\n",
       "      <th>has_garage</th>\n",
       "      <th>basement_quality</th>\n",
       "      <th>price</th>\n",
       "    </tr>\n",
       "  </thead>\n",
       "  <tbody>\n",
       "    <tr>\n",
       "      <th>455</th>\n",
       "      <td>2</td>\n",
       "      <td>7718.672837</td>\n",
       "      <td>16.180466</td>\n",
       "      <td>82.16369</td>\n",
       "      <td>70</td>\n",
       "      <td>3</td>\n",
       "      <td>105929.204481</td>\n",
       "      <td>1.485071</td>\n",
       "      <td>1</td>\n",
       "      <td>2.0</td>\n",
       "      <td>135859.368366</td>\n",
       "    </tr>\n",
       "  </tbody>\n",
       "</table>\n",
       "</div>"
      ]
     },
     "execution_count": 27,
     "metadata": {},
     "output_type": "execute_result"
    }
   ],
   "execution_count": 27
  },
  {
   "cell_type": "code",
   "id": "5840ff5fabd89c7a",
   "metadata": {
    "ExecuteTime": {
     "end_time": "2025-06-14T14:56:50.379672Z",
     "start_time": "2025-06-14T14:56:49.806917Z"
    }
   },
   "source": [
    "sns.scatterplot(data=df, x='lot_size', y='price')"
   ],
   "outputs": [
    {
     "data": {
      "text/plain": [
       "<Axes: xlabel='lot_size', ylabel='price'>"
      ]
     },
     "execution_count": 28,
     "metadata": {},
     "output_type": "execute_result"
    },
    {
     "data": {
      "text/plain": [
       "<Figure size 640x480 with 1 Axes>"
      ],
      "image/png": "[encoded data removed]"
     },
     "metadata": {},
     "output_type": "display_data"
    }
   ],
   "execution_count": 28
  },
  {
   "cell_type": "code",
   "id": "31daa705509650f6",
   "metadata": {
    "ExecuteTime": {
     "end_time": "2025-06-14T14:56:50.964564Z",
     "start_time": "2025-06-14T14:56:50.951051Z"
    }
   },
   "source": [
    "def filter_outliers_on_lot_size(df):\n",
    "    Q1,Q3=np.percentile(df['lot_size'],[25,75])\n",
    "    IQR = Q3 - Q1\n",
    "    lower_bound = Q1 - 1.5 * IQR\n",
    "    upper_bound = Q3 + 1.5 * IQR\n",
    "    filtered_df=df[(df['lot_size']<upper_bound)&(df['lot_size']>lower_bound)]\n",
    "    return filtered_df"
   ],
   "outputs": [],
   "execution_count": 29
  },
  {
   "cell_type": "code",
   "id": "199d69196dfb19f0",
   "metadata": {
    "ExecuteTime": {
     "end_time": "2025-06-14T14:56:51.268032Z",
     "start_time": "2025-06-14T14:56:51.241824Z"
    }
   },
   "source": [
    "final_df=filter_outliers_on_lot_size(df)"
   ],
   "outputs": [],
   "execution_count": 30
  },
  {
   "cell_type": "code",
   "id": "ceee414bf22ba83f",
   "metadata": {
    "ExecuteTime": {
     "end_time": "2025-06-14T14:56:51.489128Z",
     "start_time": "2025-06-14T14:56:51.474426Z"
    }
   },
   "source": [
    "len(final_df)"
   ],
   "outputs": [
    {
     "data": {
      "text/plain": [
       "484"
      ]
     },
     "execution_count": 31,
     "metadata": {},
     "output_type": "execute_result"
    }
   ],
   "execution_count": 31
  },
  {
   "cell_type": "code",
   "id": "6250015362a3f6bb",
   "metadata": {
    "ExecuteTime": {
     "end_time": "2025-06-14T14:56:51.625403Z",
     "start_time": "2025-06-14T14:56:51.596169Z"
    }
   },
   "source": [
    "final_df.head()"
   ],
   "outputs": [
    {
     "data": {
      "text/plain": [
       "   bedrooms     lot_size  distance_to_city_center  crime_rate  \\\n",
       "0         4  6958.218211                15.159223   17.483863   \n",
       "1         5  5031.505762                 2.572198   50.256608   \n",
       "2         3  6022.929457                11.335251   39.866303   \n",
       "3         5  4534.599865                14.448154   14.637399   \n",
       "4         5  5486.249529                10.411420   36.753442   \n",
       "\n",
       "   age_of_building  nearby_schools  avg_neighbourhood_income  \\\n",
       "0               82               5              49027.298942   \n",
       "1               97               2              44652.067330   \n",
       "2                6               5              44550.979936   \n",
       "3               91               9              48764.527936   \n",
       "4               23               9              78260.603546   \n",
       "\n",
       "   property_tax_rate  has_garage  basement_quality          price  \n",
       "0           0.625130           0               4.0  202070.267189  \n",
       "1           0.921014           0               3.0  236653.003295  \n",
       "2           2.118047           0               1.0  134004.412359  \n",
       "3           0.793844           0               3.0  213226.811216  \n",
       "4           1.185290           0               0.0  220244.551532  "
      ],
      "text/html": [
       "<div>\n",
       "<style scoped>\n",
       "    .dataframe tbody tr th:only-of-type {\n",
       "        vertical-align: middle;\n",
       "    }\n",
       "\n",
       "    .dataframe tbody tr th {\n",
       "        vertical-align: top;\n",
       "    }\n",
       "\n",
       "    .dataframe thead th {\n",
       "        text-align: right;\n",
       "    }\n",
       "</style>\n",
       "<table border=\"1\" class=\"dataframe\">\n",
       "  <thead>\n",
       "    <tr style=\"text-align: right;\">\n",
       "      <th></th>\n",
       "      <th>bedrooms</th>\n",
       "      <th>lot_size</th>\n",
       "      <th>distance_to_city_center</th>\n",
       "      <th>crime_rate</th>\n",
       "      <th>age_of_building</th>\n",
       "      <th>nearby_schools</th>\n",
       "      <th>avg_neighbourhood_income</th>\n",
       "      <th>property_tax_rate</th>\n",
       "      <th>has_garage</th>\n",
       "      <th>basement_quality</th>\n",
       "      <th>price</th>\n",
       "    </tr>\n",
       "  </thead>\n",
       "  <tbody>\n",
       "    <tr>\n",
       "      <th>0</th>\n",
       "      <td>4</td>\n",
       "      <td>6958.218211</td>\n",
       "      <td>15.159223</td>\n",
       "      <td>17.483863</td>\n",
       "      <td>82</td>\n",
       "      <td>5</td>\n",
       "      <td>49027.298942</td>\n",
       "      <td>0.625130</td>\n",
       "      <td>0</td>\n",
       "      <td>4.0</td>\n",
       "      <td>202070.267189</td>\n",
       "    </tr>\n",
       "    <tr>\n",
       "      <th>1</th>\n",
       "      <td>5</td>\n",
       "      <td>5031.505762</td>\n",
       "      <td>2.572198</td>\n",
       "      <td>50.256608</td>\n",
       "      <td>97</td>\n",
       "      <td>2</td>\n",
       "      <td>44652.067330</td>\n",
       "      <td>0.921014</td>\n",
       "      <td>0</td>\n",
       "      <td>3.0</td>\n",
       "      <td>236653.003295</td>\n",
       "    </tr>\n",
       "    <tr>\n",
       "      <th>2</th>\n",
       "      <td>3</td>\n",
       "      <td>6022.929457</td>\n",
       "      <td>11.335251</td>\n",
       "      <td>39.866303</td>\n",
       "      <td>6</td>\n",
       "      <td>5</td>\n",
       "      <td>44550.979936</td>\n",
       "      <td>2.118047</td>\n",
       "      <td>0</td>\n",
       "      <td>1.0</td>\n",
       "      <td>134004.412359</td>\n",
       "    </tr>\n",
       "    <tr>\n",
       "      <th>3</th>\n",
       "      <td>5</td>\n",
       "      <td>4534.599865</td>\n",
       "      <td>14.448154</td>\n",
       "      <td>14.637399</td>\n",
       "      <td>91</td>\n",
       "      <td>9</td>\n",
       "      <td>48764.527936</td>\n",
       "      <td>0.793844</td>\n",
       "      <td>0</td>\n",
       "      <td>3.0</td>\n",
       "      <td>213226.811216</td>\n",
       "    </tr>\n",
       "    <tr>\n",
       "      <th>4</th>\n",
       "      <td>5</td>\n",
       "      <td>5486.249529</td>\n",
       "      <td>10.411420</td>\n",
       "      <td>36.753442</td>\n",
       "      <td>23</td>\n",
       "      <td>9</td>\n",
       "      <td>78260.603546</td>\n",
       "      <td>1.185290</td>\n",
       "      <td>0</td>\n",
       "      <td>0.0</td>\n",
       "      <td>220244.551532</td>\n",
       "    </tr>\n",
       "  </tbody>\n",
       "</table>\n",
       "</div>"
      ]
     },
     "execution_count": 32,
     "metadata": {},
     "output_type": "execute_result"
    }
   ],
   "execution_count": 32
  },
  {
   "cell_type": "code",
   "id": "aee4e0d1f2b81fea",
   "metadata": {
    "ExecuteTime": {
     "end_time": "2025-06-14T14:56:55.357677Z",
     "start_time": "2025-06-14T14:56:51.889672Z"
    }
   },
   "source": [
    "from sklearn.linear_model import ElasticNet\n",
    "from sklearn.model_selection import train_test_split\n",
    "from sklearn.model_selection import GridSearchCV\n",
    "from sklearn.preprocessing import StandardScaler,PolynomialFeatures\n",
    "from sklearn.metrics import mean_squared_error, r2_score, mean_absolute_error\n"
   ],
   "outputs": [],
   "execution_count": 33
  },
  {
   "cell_type": "code",
   "id": "91e58de2aa9c65e3",
   "metadata": {
    "ExecuteTime": {
     "end_time": "2025-06-14T14:56:55.535445Z",
     "start_time": "2025-06-14T14:56:55.519504Z"
    }
   },
   "source": [
    "model=ElasticNet()"
   ],
   "outputs": [],
   "execution_count": 34
  },
  {
   "cell_type": "code",
   "id": "97a8164f4f9166b7",
   "metadata": {
    "ExecuteTime": {
     "end_time": "2025-06-14T14:56:55.914924Z",
     "start_time": "2025-06-14T14:56:55.892538Z"
    }
   },
   "source": [
    "\n",
    "X=final_df.drop('price',axis=1)\n",
    "y=final_df['price']\n",
    "X_train, X_test, y_train, y_test = train_test_split(X, y, test_size=0.2, random_state=42)\n",
    "\n"
   ],
   "outputs": [],
   "execution_count": 35
  },
  {
   "cell_type": "code",
   "id": "c9baad2dedb80272",
   "metadata": {
    "ExecuteTime": {
     "end_time": "2025-06-14T14:56:56.213676Z",
     "start_time": "2025-06-14T14:56:56.208760Z"
    }
   },
   "source": [
    "# best_parameters_list=[]\n",
    "# train_rmse_errors_list=[]\n",
    "# test_rmse_errors_list=[]\n",
    "# param_grid={'alpha':[19,20.5,20,30,20.9],'l1_ratio':[1,.1,.01,.99,.5,.05],'max_iter':[100000]}\n",
    "# for i in range(1,4):\n",
    "#     features=PolynomialFeatures(degree=i)\n",
    "#     features.fit(X_train)\n",
    "#     X_train=features.transform(X_train)\n",
    "#     X_test=features.transform(X_test)\n",
    "#     sc=StandardScaler()\n",
    "#     sc.fit(X_train)\n",
    "#     X_train=sc.transform(X_train)\n",
    "#     X_test=sc.transform(X_test)\n",
    "#     print('yyyy')\n",
    "#     grid_search=GridSearchCV(estimator=model,param_grid=param_grid,cv=5,scoring='neg_mean_squared_error')\n",
    "#     grid_search.fit(X_train,y_train)\n",
    "#\n",
    "#     best_match=grid_search.best_params_\n",
    "#     best_parameters_list.append(best_match)\n",
    "#\n",
    "#     train_prediction=grid_search.predict(X_train)\n",
    "#     train_mae_error=mean_absolute_error(y_train,train_prediction)\n",
    "#     train_r_2_error=r2_score(y_train,train_prediction)\n",
    "#     train_rmse_error=np.sqrt(mean_squared_error(y_train,train_prediction))\n",
    "#     train_rmse_errors_list.append(train_rmse_error)\n",
    "#\n",
    "#     test_prediction=grid_search.predict(X_test)\n",
    "#     test_rmse_error=np.sqrt(mean_squared_error(y_test, test_prediction))\n",
    "#     test_mae_error=mean_absolute_error(y_test, test_prediction)\n",
    "#     test_r_2_error=r2_score(y_test, test_prediction)\n",
    "#     test_rmse_errors_list.append(test_rmse_error)\n",
    "#\n",
    "#     print(f'Best parameters:{best_match}')\n",
    "#     print (f'Train Errors for, \\nDegree{i}, \\nRMSE:{train_rmse_error},\\n MAE(:{train_mae_error}, \\nR2 Score:{train_r_2_error} ')\n",
    "#\n",
    "#     print(f'Test Errors for, \\nDegree{i}, \\nRMSE:{test_rmse_error},\\n MAE(:{test_mae_error}, \\nR2 Score:{test_r_2_error} ')\n",
    "#\n",
    "# print(\"\\nBest Parameters for each polynomial degree:\")\n",
    "# print(best_parameters_list)\n",
    "\n",
    "\n"
   ],
   "outputs": [],
   "execution_count": 36
  },
  {
   "metadata": {
    "ExecuteTime": {
     "end_time": "2025-06-14T14:56:58.165176Z",
     "start_time": "2025-06-14T14:56:56.504474Z"
    }
   },
   "cell_type": "code",
   "source": [
    "param_grid={'alpha':[19,20.5,20,30,20.9],'l1_ratio':[1,.1,.01,.99,.5,.05],'max_iter':[100000]}\n",
    "features=PolynomialFeatures(degree=2)\n",
    "features.fit(X_train)\n",
    "poly_X_train=features.transform(X_train)\n",
    "poly_X_test=features.transform(X_test)\n",
    "sc=StandardScaler()\n",
    "sc.fit(poly_X_train)\n",
    "poly_X_train=sc.transform(poly_X_train)\n",
    "poly_X_test=sc.transform(poly_X_test)\n",
    "\n",
    "grid_search=GridSearchCV(estimator=model,param_grid=param_grid,cv=5,scoring='neg_mean_squared_error')\n",
    "grid_search.fit(poly_X_train,y_train)\n",
    "\n",
    "best_match_poly=grid_search.best_params_\n",
    "\n",
    "train_prediction=grid_search.predict(poly_X_train)\n",
    "train_rmse_error=np.sqrt(mean_squared_error(y_train,train_prediction))\n",
    "train_mae_error=mean_absolute_error(y_train,train_prediction)\n",
    "train_r_2=r2_score(y_train,train_prediction)\n",
    "\n",
    "\n",
    "test_prediction=grid_search.predict(poly_X_test)\n",
    "test_rmse=np.sqrt(mean_squared_error(y_test, test_prediction))\n",
    "test_mae=mean_absolute_error(y_test, test_prediction)\n",
    "test_r_2=r2_score(y_test, test_prediction)\n",
    "print(f'MAE(Train):{train_mae_error},\\nMAE(Test):{test_mae},\\nRMSE(Train){train_rmse_error},\\nRMSE(Test):{test_rmse},\\nR2(Train):{train_r_2},\\nR2(Test):{test_r_2}')\n",
    "print(f'Best Parameters={best_match_poly}')"
   ],
   "id": "76aea47e602584cf",
   "outputs": [
    {
     "name": "stdout",
     "output_type": "stream",
     "text": [
      "MAE(Train):18910.90433808865,\n",
      "MAE(Test):19209.28659482828,\n",
      "RMSE(Train)24070.460433333275,\n",
      "RMSE(Test):24613.985809842423,\n",
      "R2(Train):0.8086229140835468,\n",
      "R2(Test):0.7121996488008933\n",
      "Best Parameters={'alpha': 19, 'l1_ratio': 0.99, 'max_iter': 100000}\n"
     ]
    }
   ],
   "execution_count": 37
  },
  {
   "cell_type": "code",
   "id": "9fa41a6d-f4ad-47c3-8cc1-4e0ec2eacb34",
   "metadata": {
    "ExecuteTime": {
     "end_time": "2025-06-14T14:56:59.363872Z",
     "start_time": "2025-06-14T14:56:58.264728Z"
    }
   },
   "source": [
    "# X_train.shape\n",
    "param_grid_2={'alpha':[.02,.001,.1,0.09,.01],'l1_ratio':[.02,.001,.01,.09],'max_iter':[100000]}\n",
    "sc_2=StandardScaler()\n",
    "np_X_train=sc_2.fit_transform(X_train)\n",
    "\n",
    "np_X_test=sc_2.transform(X_test)\n",
    "\n",
    "grid_search_2=GridSearchCV(estimator=model,param_grid=param_grid_2,cv=5,scoring='neg_mean_squared_error')\n",
    "grid_search_2.fit(np_X_train,y_train)\n",
    "np_best_match=grid_search_2.best_params_\n",
    "\n",
    "np_train_prediction=grid_search_2.predict(np_X_train)\n",
    "np_train_rmse_error=np.sqrt(mean_squared_error(y_train,np_train_prediction))\n",
    "np_train_mae_error=mean_absolute_error(y_train,np_train_prediction)\n",
    "np_train_r_2=r2_score(y_train,np_train_prediction)\n",
    "\n",
    "np_test_prediction=grid_search_2.predict(np_X_test)\n",
    "np_test_rmse=np.sqrt(mean_squared_error(y_test, np_test_prediction))\n",
    "np_test_mae=mean_absolute_error(y_test, np_test_prediction)\n",
    "np_test_r_2=r2_score(y_test, np_test_prediction)\n",
    "\n",
    "print(f'MAE(Train):{np_train_mae_error},\\nMAE(Test):{np_test_mae},\\nRMSE(Train){np_train_rmse_error},\\nRMSE(Test):{np_test_rmse},\\nR2(Train):{np_train_r_2},\\nR2(Test):{np_test_r_2}')\n",
    "print(f'Best Parameters={np_best_match}')\n",
    "\n",
    "\n"
   ],
   "outputs": [
    {
     "name": "stdout",
     "output_type": "stream",
     "text": [
      "MAE(Train):19634.93799011412,\n",
      "MAE(Test):19109.94674614736,\n",
      "RMSE(Train)24799.242716620807,\n",
      "RMSE(Test):24214.44938912927,\n",
      "R2(Train):0.796858815665574,\n",
      "R2(Test):0.7214670210741992\n",
      "Best Parameters={'alpha': 0.01, 'l1_ratio': 0.001, 'max_iter': 100000}\n"
     ]
    }
   ],
   "execution_count": 38
  },
  {
   "metadata": {
    "ExecuteTime": {
     "end_time": "2025-06-14T14:57:36.572025Z",
     "start_time": "2025-06-14T14:57:36.548435Z"
    }
   },
   "cell_type": "code",
   "source": [
    "final_model=ElasticNet(alpha=0.01,l1_ratio=.001,max_iter=100000)\n",
    "final_scaler=StandardScaler()\n",
    "scaled_X=final_scaler.fit_transform(X)"
   ],
   "id": "8de8c4b604dbd8ed",
   "outputs": [],
   "execution_count": 42
  },
  {
   "metadata": {
    "ExecuteTime": {
     "end_time": "2025-06-14T14:57:37.560859Z",
     "start_time": "2025-06-14T14:57:37.532099Z"
    }
   },
   "cell_type": "code",
   "source": "final_model.fit(scaled_X,y)",
   "id": "3553f863d33c2fb3",
   "outputs": [
    {
     "data": {
      "text/plain": [
       "ElasticNet(alpha=0.01, l1_ratio=0.001, max_iter=100000)"
      ],
      "text/html": [
       "<style>#sk-container-id-2 {\n",
       "  /* Definition of color scheme common for light and dark mode */\n",
       "  --sklearn-color-text: #000;\n",
       "  --sklearn-color-text-muted: #666;\n",
       "  --sklearn-color-line: gray;\n",
       "  /* Definition of color scheme for unfitted estimators */\n",
       "  --sklearn-color-unfitted-level-0: #fff5e6;\n",
       "  --sklearn-color-unfitted-level-1: #f6e4d2;\n",
       "  --sklearn-color-unfitted-level-2: #ffe0b3;\n",
       "  --sklearn-color-unfitted-level-3: chocolate;\n",
       "  /* Definition of color scheme for fitted estimators */\n",
       "  --sklearn-color-fitted-level-0: #f0f8ff;\n",
       "  --sklearn-color-fitted-level-1: #d4ebff;\n",
       "  --sklearn-color-fitted-level-2: #b3dbfd;\n",
       "  --sklearn-color-fitted-level-3: cornflowerblue;\n",
       "\n",
       "  /* Specific color for light theme */\n",
       "  --sklearn-color-text-on-default-background: var(--sg-text-color, var(--theme-code-foreground, var(--jp-content-font-color1, black)));\n",
       "  --sklearn-color-background: var(--sg-background-color, var(--theme-background, var(--jp-layout-color0, white)));\n",
       "  --sklearn-color-border-box: var(--sg-text-color, var(--theme-code-foreground, var(--jp-content-font-color1, black)));\n",
       "  --sklearn-color-icon: #696969;\n",
       "\n",
       "  @media (prefers-color-scheme: dark) {\n",
       "    /* Redefinition of color scheme for dark theme */\n",
       "    --sklearn-color-text-on-default-background: var(--sg-text-color, var(--theme-code-foreground, var(--jp-content-font-color1, white)));\n",
       "    --sklearn-color-background: var(--sg-background-color, var(--theme-background, var(--jp-layout-color0, #111)));\n",
       "    --sklearn-color-border-box: var(--sg-text-color, var(--theme-code-foreground, var(--jp-content-font-color1, white)));\n",
       "    --sklearn-color-icon: #878787;\n",
       "  }\n",
       "}\n",
       "\n",
       "#sk-container-id-2 {\n",
       "  color: var(--sklearn-color-text);\n",
       "}\n",
       "\n",
       "#sk-container-id-2 pre {\n",
       "  padding: 0;\n",
       "}\n",
       "\n",
       "#sk-container-id-2 input.sk-hidden--visually {\n",
       "  border: 0;\n",
       "  clip: rect(1px 1px 1px 1px);\n",
       "  clip: rect(1px, 1px, 1px, 1px);\n",
       "  height: 1px;\n",
       "  margin: -1px;\n",
       "  overflow: hidden;\n",
       "  padding: 0;\n",
       "  position: absolute;\n",
       "  width: 1px;\n",
       "}\n",
       "\n",
       "#sk-container-id-2 div.sk-dashed-wrapped {\n",
       "  border: 1px dashed var(--sklearn-color-line);\n",
       "  margin: 0 0.4em 0.5em 0.4em;\n",
       "  box-sizing: border-box;\n",
       "  padding-bottom: 0.4em;\n",
       "  background-color: var(--sklearn-color-background);\n",
       "}\n",
       "\n",
       "#sk-container-id-2 div.sk-container {\n",
       "  /* jupyter's `normalize.less` sets `[hidden] { display: none; }`\n",
       "     but bootstrap.min.css set `[hidden] { display: none !important; }`\n",
       "     so we also need the `!important` here to be able to override the\n",
       "     default hidden behavior on the sphinx rendered scikit-learn.org.\n",
       "     See: https://github.com/scikit-learn/scikit-learn/issues/21755 */\n",
       "  display: inline-block !important;\n",
       "  position: relative;\n",
       "}\n",
       "\n",
       "#sk-container-id-2 div.sk-text-repr-fallback {\n",
       "  display: none;\n",
       "}\n",
       "\n",
       "div.sk-parallel-item,\n",
       "div.sk-serial,\n",
       "div.sk-item {\n",
       "  /* draw centered vertical line to link estimators */\n",
       "  background-image: linear-gradient(var(--sklearn-color-text-on-default-background), var(--sklearn-color-text-on-default-background));\n",
       "  background-size: 2px 100%;\n",
       "  background-repeat: no-repeat;\n",
       "  background-position: center center;\n",
       "}\n",
       "\n",
       "/* Parallel-specific style estimator block */\n",
       "\n",
       "#sk-container-id-2 div.sk-parallel-item::after {\n",
       "  content: \"\";\n",
       "  width: 100%;\n",
       "  border-bottom: 2px solid var(--sklearn-color-text-on-default-background);\n",
       "  flex-grow: 1;\n",
       "}\n",
       "\n",
       "#sk-container-id-2 div.sk-parallel {\n",
       "  display: flex;\n",
       "  align-items: stretch;\n",
       "  justify-content: center;\n",
       "  background-color: var(--sklearn-color-background);\n",
       "  position: relative;\n",
       "}\n",
       "\n",
       "#sk-container-id-2 div.sk-parallel-item {\n",
       "  display: flex;\n",
       "  flex-direction: column;\n",
       "}\n",
       "\n",
       "#sk-container-id-2 div.sk-parallel-item:first-child::after {\n",
       "  align-self: flex-end;\n",
       "  width: 50%;\n",
       "}\n",
       "\n",
       "#sk-container-id-2 div.sk-parallel-item:last-child::after {\n",
       "  align-self: flex-start;\n",
       "  width: 50%;\n",
       "}\n",
       "\n",
       "#sk-container-id-2 div.sk-parallel-item:only-child::after {\n",
       "  width: 0;\n",
       "}\n",
       "\n",
       "/* Serial-specific style estimator block */\n",
       "\n",
       "#sk-container-id-2 div.sk-serial {\n",
       "  display: flex;\n",
       "  flex-direction: column;\n",
       "  align-items: center;\n",
       "  background-color: var(--sklearn-color-background);\n",
       "  padding-right: 1em;\n",
       "  padding-left: 1em;\n",
       "}\n",
       "\n",
       "\n",
       "/* Toggleable style: style used for estimator/Pipeline/ColumnTransformer box that is\n",
       "clickable and can be expanded/collapsed.\n",
       "- Pipeline and ColumnTransformer use this feature and define the default style\n",
       "- Estimators will overwrite some part of the style using the `sk-estimator` class\n",
       "*/\n",
       "\n",
       "/* Pipeline and ColumnTransformer style (default) */\n",
       "\n",
       "#sk-container-id-2 div.sk-toggleable {\n",
       "  /* Default theme specific background. It is overwritten whether we have a\n",
       "  specific estimator or a Pipeline/ColumnTransformer */\n",
       "  background-color: var(--sklearn-color-background);\n",
       "}\n",
       "\n",
       "/* Toggleable label */\n",
       "#sk-container-id-2 label.sk-toggleable__label {\n",
       "  cursor: pointer;\n",
       "  display: flex;\n",
       "  width: 100%;\n",
       "  margin-bottom: 0;\n",
       "  padding: 0.5em;\n",
       "  box-sizing: border-box;\n",
       "  text-align: center;\n",
       "  align-items: start;\n",
       "  justify-content: space-between;\n",
       "  gap: 0.5em;\n",
       "}\n",
       "\n",
       "#sk-container-id-2 label.sk-toggleable__label .caption {\n",
       "  font-size: 0.6rem;\n",
       "  font-weight: lighter;\n",
       "  color: var(--sklearn-color-text-muted);\n",
       "}\n",
       "\n",
       "#sk-container-id-2 label.sk-toggleable__label-arrow:before {\n",
       "  /* Arrow on the left of the label */\n",
       "  content: \"▸\";\n",
       "  float: left;\n",
       "  margin-right: 0.25em;\n",
       "  color: var(--sklearn-color-icon);\n",
       "}\n",
       "\n",
       "#sk-container-id-2 label.sk-toggleable__label-arrow:hover:before {\n",
       "  color: var(--sklearn-color-text);\n",
       "}\n",
       "\n",
       "/* Toggleable content - dropdown */\n",
       "\n",
       "#sk-container-id-2 div.sk-toggleable__content {\n",
       "  max-height: 0;\n",
       "  max-width: 0;\n",
       "  overflow: hidden;\n",
       "  text-align: left;\n",
       "  /* unfitted */\n",
       "  background-color: var(--sklearn-color-unfitted-level-0);\n",
       "}\n",
       "\n",
       "#sk-container-id-2 div.sk-toggleable__content.fitted {\n",
       "  /* fitted */\n",
       "  background-color: var(--sklearn-color-fitted-level-0);\n",
       "}\n",
       "\n",
       "#sk-container-id-2 div.sk-toggleable__content pre {\n",
       "  margin: 0.2em;\n",
       "  border-radius: 0.25em;\n",
       "  color: var(--sklearn-color-text);\n",
       "  /* unfitted */\n",
       "  background-color: var(--sklearn-color-unfitted-level-0);\n",
       "}\n",
       "\n",
       "#sk-container-id-2 div.sk-toggleable__content.fitted pre {\n",
       "  /* unfitted */\n",
       "  background-color: var(--sklearn-color-fitted-level-0);\n",
       "}\n",
       "\n",
       "#sk-container-id-2 input.sk-toggleable__control:checked~div.sk-toggleable__content {\n",
       "  /* Expand drop-down */\n",
       "  max-height: 200px;\n",
       "  max-width: 100%;\n",
       "  overflow: auto;\n",
       "}\n",
       "\n",
       "#sk-container-id-2 input.sk-toggleable__control:checked~label.sk-toggleable__label-arrow:before {\n",
       "  content: \"▾\";\n",
       "}\n",
       "\n",
       "/* Pipeline/ColumnTransformer-specific style */\n",
       "\n",
       "#sk-container-id-2 div.sk-label input.sk-toggleable__control:checked~label.sk-toggleable__label {\n",
       "  color: var(--sklearn-color-text);\n",
       "  background-color: var(--sklearn-color-unfitted-level-2);\n",
       "}\n",
       "\n",
       "#sk-container-id-2 div.sk-label.fitted input.sk-toggleable__control:checked~label.sk-toggleable__label {\n",
       "  background-color: var(--sklearn-color-fitted-level-2);\n",
       "}\n",
       "\n",
       "/* Estimator-specific style */\n",
       "\n",
       "/* Colorize estimator box */\n",
       "#sk-container-id-2 div.sk-estimator input.sk-toggleable__control:checked~label.sk-toggleable__label {\n",
       "  /* unfitted */\n",
       "  background-color: var(--sklearn-color-unfitted-level-2);\n",
       "}\n",
       "\n",
       "#sk-container-id-2 div.sk-estimator.fitted input.sk-toggleable__control:checked~label.sk-toggleable__label {\n",
       "  /* fitted */\n",
       "  background-color: var(--sklearn-color-fitted-level-2);\n",
       "}\n",
       "\n",
       "#sk-container-id-2 div.sk-label label.sk-toggleable__label,\n",
       "#sk-container-id-2 div.sk-label label {\n",
       "  /* The background is the default theme color */\n",
       "  color: var(--sklearn-color-text-on-default-background);\n",
       "}\n",
       "\n",
       "/* On hover, darken the color of the background */\n",
       "#sk-container-id-2 div.sk-label:hover label.sk-toggleable__label {\n",
       "  color: var(--sklearn-color-text);\n",
       "  background-color: var(--sklearn-color-unfitted-level-2);\n",
       "}\n",
       "\n",
       "/* Label box, darken color on hover, fitted */\n",
       "#sk-container-id-2 div.sk-label.fitted:hover label.sk-toggleable__label.fitted {\n",
       "  color: var(--sklearn-color-text);\n",
       "  background-color: var(--sklearn-color-fitted-level-2);\n",
       "}\n",
       "\n",
       "/* Estimator label */\n",
       "\n",
       "#sk-container-id-2 div.sk-label label {\n",
       "  font-family: monospace;\n",
       "  font-weight: bold;\n",
       "  display: inline-block;\n",
       "  line-height: 1.2em;\n",
       "}\n",
       "\n",
       "#sk-container-id-2 div.sk-label-container {\n",
       "  text-align: center;\n",
       "}\n",
       "\n",
       "/* Estimator-specific */\n",
       "#sk-container-id-2 div.sk-estimator {\n",
       "  font-family: monospace;\n",
       "  border: 1px dotted var(--sklearn-color-border-box);\n",
       "  border-radius: 0.25em;\n",
       "  box-sizing: border-box;\n",
       "  margin-bottom: 0.5em;\n",
       "  /* unfitted */\n",
       "  background-color: var(--sklearn-color-unfitted-level-0);\n",
       "}\n",
       "\n",
       "#sk-container-id-2 div.sk-estimator.fitted {\n",
       "  /* fitted */\n",
       "  background-color: var(--sklearn-color-fitted-level-0);\n",
       "}\n",
       "\n",
       "/* on hover */\n",
       "#sk-container-id-2 div.sk-estimator:hover {\n",
       "  /* unfitted */\n",
       "  background-color: var(--sklearn-color-unfitted-level-2);\n",
       "}\n",
       "\n",
       "#sk-container-id-2 div.sk-estimator.fitted:hover {\n",
       "  /* fitted */\n",
       "  background-color: var(--sklearn-color-fitted-level-2);\n",
       "}\n",
       "\n",
       "/* Specification for estimator info (e.g. \"i\" and \"?\") */\n",
       "\n",
       "/* Common style for \"i\" and \"?\" */\n",
       "\n",
       ".sk-estimator-doc-link,\n",
       "a:link.sk-estimator-doc-link,\n",
       "a:visited.sk-estimator-doc-link {\n",
       "  float: right;\n",
       "  font-size: smaller;\n",
       "  line-height: 1em;\n",
       "  font-family: monospace;\n",
       "  background-color: var(--sklearn-color-background);\n",
       "  border-radius: 1em;\n",
       "  height: 1em;\n",
       "  width: 1em;\n",
       "  text-decoration: none !important;\n",
       "  margin-left: 0.5em;\n",
       "  text-align: center;\n",
       "  /* unfitted */\n",
       "  border: var(--sklearn-color-unfitted-level-1) 1pt solid;\n",
       "  color: var(--sklearn-color-unfitted-level-1);\n",
       "}\n",
       "\n",
       ".sk-estimator-doc-link.fitted,\n",
       "a:link.sk-estimator-doc-link.fitted,\n",
       "a:visited.sk-estimator-doc-link.fitted {\n",
       "  /* fitted */\n",
       "  border: var(--sklearn-color-fitted-level-1) 1pt solid;\n",
       "  color: var(--sklearn-color-fitted-level-1);\n",
       "}\n",
       "\n",
       "/* On hover */\n",
       "div.sk-estimator:hover .sk-estimator-doc-link:hover,\n",
       ".sk-estimator-doc-link:hover,\n",
       "div.sk-label-container:hover .sk-estimator-doc-link:hover,\n",
       ".sk-estimator-doc-link:hover {\n",
       "  /* unfitted */\n",
       "  background-color: var(--sklearn-color-unfitted-level-3);\n",
       "  color: var(--sklearn-color-background);\n",
       "  text-decoration: none;\n",
       "}\n",
       "\n",
       "div.sk-estimator.fitted:hover .sk-estimator-doc-link.fitted:hover,\n",
       ".sk-estimator-doc-link.fitted:hover,\n",
       "div.sk-label-container:hover .sk-estimator-doc-link.fitted:hover,\n",
       ".sk-estimator-doc-link.fitted:hover {\n",
       "  /* fitted */\n",
       "  background-color: var(--sklearn-color-fitted-level-3);\n",
       "  color: var(--sklearn-color-background);\n",
       "  text-decoration: none;\n",
       "}\n",
       "\n",
       "/* Span, style for the box shown on hovering the info icon */\n",
       ".sk-estimator-doc-link span {\n",
       "  display: none;\n",
       "  z-index: 9999;\n",
       "  position: relative;\n",
       "  font-weight: normal;\n",
       "  right: .2ex;\n",
       "  padding: .5ex;\n",
       "  margin: .5ex;\n",
       "  width: min-content;\n",
       "  min-width: 20ex;\n",
       "  max-width: 50ex;\n",
       "  color: var(--sklearn-color-text);\n",
       "  box-shadow: 2pt 2pt 4pt #999;\n",
       "  /* unfitted */\n",
       "  background: var(--sklearn-color-unfitted-level-0);\n",
       "  border: .5pt solid var(--sklearn-color-unfitted-level-3);\n",
       "}\n",
       "\n",
       ".sk-estimator-doc-link.fitted span {\n",
       "  /* fitted */\n",
       "  background: var(--sklearn-color-fitted-level-0);\n",
       "  border: var(--sklearn-color-fitted-level-3);\n",
       "}\n",
       "\n",
       ".sk-estimator-doc-link:hover span {\n",
       "  display: block;\n",
       "}\n",
       "\n",
       "/* \"?\"-specific style due to the `<a>` HTML tag */\n",
       "\n",
       "#sk-container-id-2 a.estimator_doc_link {\n",
       "  float: right;\n",
       "  font-size: 1rem;\n",
       "  line-height: 1em;\n",
       "  font-family: monospace;\n",
       "  background-color: var(--sklearn-color-background);\n",
       "  border-radius: 1rem;\n",
       "  height: 1rem;\n",
       "  width: 1rem;\n",
       "  text-decoration: none;\n",
       "  /* unfitted */\n",
       "  color: var(--sklearn-color-unfitted-level-1);\n",
       "  border: var(--sklearn-color-unfitted-level-1) 1pt solid;\n",
       "}\n",
       "\n",
       "#sk-container-id-2 a.estimator_doc_link.fitted {\n",
       "  /* fitted */\n",
       "  border: var(--sklearn-color-fitted-level-1) 1pt solid;\n",
       "  color: var(--sklearn-color-fitted-level-1);\n",
       "}\n",
       "\n",
       "/* On hover */\n",
       "#sk-container-id-2 a.estimator_doc_link:hover {\n",
       "  /* unfitted */\n",
       "  background-color: var(--sklearn-color-unfitted-level-3);\n",
       "  color: var(--sklearn-color-background);\n",
       "  text-decoration: none;\n",
       "}\n",
       "\n",
       "#sk-container-id-2 a.estimator_doc_link.fitted:hover {\n",
       "  /* fitted */\n",
       "  background-color: var(--sklearn-color-fitted-level-3);\n",
       "}\n",
       "</style><div id=\"sk-container-id-2\" class=\"sk-top-container\"><div class=\"sk-text-repr-fallback\"><pre>ElasticNet(alpha=0.01, l1_ratio=0.001, max_iter=100000)</pre><b>In a Jupyter environment, please rerun this cell to show the HTML representation or trust the notebook. <br />On GitHub, the HTML representation is unable to render, please try loading this page with nbviewer.org.</b></div><div class=\"sk-container\" hidden><div class=\"sk-item\"><div class=\"sk-estimator fitted sk-toggleable\"><input class=\"sk-toggleable__control sk-hidden--visually\" id=\"sk-estimator-id-2\" type=\"checkbox\" checked><label for=\"sk-estimator-id-2\" class=\"sk-toggleable__label fitted sk-toggleable__label-arrow\"><div><div>ElasticNet</div></div><div><a class=\"sk-estimator-doc-link fitted\" rel=\"noreferrer\" target=\"_blank\" href=\"https://scikit-learn.org/1.6/modules/generated/sklearn.linear_model.ElasticNet.html\">?<span>Documentation for ElasticNet</span></a><span class=\"sk-estimator-doc-link fitted\">i<span>Fitted</span></span></div></label><div class=\"sk-toggleable__content fitted\"><pre>ElasticNet(alpha=0.01, l1_ratio=0.001, max_iter=100000)</pre></div> </div></div></div></div>"
      ]
     },
     "execution_count": 43,
     "metadata": {},
     "output_type": "execute_result"
    }
   ],
   "execution_count": 43
  },
  {
   "metadata": {
    "ExecuteTime": {
     "end_time": "2025-06-14T14:57:38.704647Z",
     "start_time": "2025-06-14T14:57:38.672459Z"
    }
   },
   "cell_type": "code",
   "source": [
    "from joblib import dump, load\n",
    "dump(final_model,'house_prediction_model.joblib')\n",
    "dump(final_scaler,'house_prediction_scaler.joblib')"
   ],
   "id": "dd0644c38d6264da",
   "outputs": [
    {
     "data": {
      "text/plain": [
       "['house_prediction_scaler.joblib']"
      ]
     },
     "execution_count": 44,
     "metadata": {},
     "output_type": "execute_result"
    }
   ],
   "execution_count": 44
  },
  {
   "metadata": {
    "ExecuteTime": {
     "end_time": "2025-06-14T14:57:03.113914Z",
     "start_time": "2025-06-14T14:57:03.110132Z"
    }
   },
   "cell_type": "code",
   "source": "",
   "id": "7058f3d91ba962ba",
   "outputs": [],
   "execution_count": null
  }
 ],
 "metadata": {
  "kernelspec": {
   "display_name": "Python 3 (ipykernel)",
   "language": "python",
   "name": "python3"
  },
  "language_info": {
   "codemirror_mode": {
    "name": "ipython",
    "version": 3
   },
   "file_extension": ".py",
   "mimetype": "text/x-python",
   "name": "python",
   "nbconvert_exporter": "python",
   "pygments_lexer": "ipython3",
   "version": "3.11.5"
  }
 },
 "nbformat": 4,
 "nbformat_minor": 5
}
